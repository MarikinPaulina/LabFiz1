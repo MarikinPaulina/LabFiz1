{
 "cells": [
  {
   "cell_type": "code",
   "execution_count": 1,
   "metadata": {
    "collapsed": true
   },
   "outputs": [],
   "source": [
    "import numpy as np\n",
    "import matplotlib.pyplot as plt\n",
    "import pandas as pd\n",
    "from matplotlib import rc\n",
    "from scipy.optimize import curve_fit\n",
    "%matplotlib inline"
   ]
  },
  {
   "cell_type": "code",
   "execution_count": 40,
   "metadata": {
    "collapsed": true
   },
   "outputs": [],
   "source": [
    "rc('font', family='Comic Sans MS')\n",
    "matematyczne=pd.read_csv('dlugosc50cm.csv')\n",
    "roznicowe=pd.read_csv('kat15stopni.csv')\n",
    "stopien = np.pi/180\n",
    "D_phi_miarka = stopien\n",
    "D_phi_eksp = stopien*4\n",
    "D_phi = np.sqrt((D_phi_miarka**2)/3 + (D_phi_eksp**2)/3)\n",
    "dlugosc = 50e-2\n",
    "phi=15*stopien\n",
    "D_dlugosc = 0.5\n",
    "D_czas = 1e-4\n",
    "matematyczne_kat = np.arange(10,41,10, dtype=float)\n",
    "roznicowe_lina = np.arange(0,51,10, dtype=float)\n",
    "roznicowe_lina[0] = 1.5\n",
    "g = 9.81"
   ]
  },
  {
   "cell_type": "code",
   "execution_count": 22,
   "metadata": {
    "collapsed": false
   },
   "outputs": [
    {
     "name": "stdout",
     "output_type": "stream",
     "text": [
      "\\begin{tabular}{lrrrr}\n",
      "\\toprule\n",
      "{} &      10 &      20 &      30 &      40 \\\\\n",
      "\\midrule\n",
      "0 &  4.9223 &  5.7827 &  5.7889 &  5.8451 \\\\\n",
      "1 &  5.6868 &  5.7221 &  5.7733 &  5.8451 \\\\\n",
      "2 &  4.9163 &  5.7227 &  5.7745 &  5.8525 \\\\\n",
      "3 &  5.6908 &  5.7202 &  5.7716 &  5.8456 \\\\\n",
      "4 &  4.9222 &  5.7210 &  5.7750 &  5.8459 \\\\\n",
      "\\bottomrule\n",
      "\\end{tabular}\n",
      "\n"
     ]
    }
   ],
   "source": [
    "print(matematyczne.to_latex())"
   ]
  },
  {
   "cell_type": "code",
   "execution_count": 4,
   "metadata": {
    "collapsed": false
   },
   "outputs": [
    {
     "name": "stdout",
     "output_type": "stream",
     "text": [
      "\\begin{tabular}{lrrrrrr}\n",
      "\\toprule\n",
      "{} &      50 &      40 &      30 &      20 &      10 &     1.5 \\\\\n",
      "\\midrule\n",
      "0 &  1.2158 &  1.3703 &  1.5107 &  1.6406 &  1.7587 &  1.8516 \\\\\n",
      "1 &  1.2122 &  1.3690 &  1.5121 &  1.6403 &  1.7599 &  1.8525 \\\\\n",
      "2 &  1.2103 &  1.3705 &  1.5118 &  1.6403 &  1.7605 &  1.8518 \\\\\n",
      "3 &  1.2121 &  1.3703 &  1.5124 &  1.6402 &  1.7597 &  1.8516 \\\\\n",
      "4 &  1.2126 &  1.3706 &  1.5124 &  1.6408 &  1.7599 &  1.8518 \\\\\n",
      "5 &  1.2136 &  1.3704 &  1.5120 &  1.6400 &  1.7605 &  1.8523 \\\\\n",
      "\\bottomrule\n",
      "\\end{tabular}\n",
      "\n"
     ]
    }
   ],
   "source": [
    "print(roznicowe.to_latex())"
   ]
  },
  {
   "cell_type": "code",
   "execution_count": 5,
   "metadata": {
    "collapsed": true
   },
   "outputs": [],
   "source": [
    "def ciag_przyblizen(fi):\n",
    "    le_sin = np.sin(fi/2)\n",
    "    return 1 + 1/4*le_sin**2 + 9/64*le_sin**4 + 225/2304*le_sin**6\n",
    "def matematyczne_okres(fi):\n",
    "#     return ciag_przyblizen(fi)\n",
    "    return 2*(np.pi)*np.sqrt(dlugosc/g)*ciag_przyblizen(fi)"
   ]
  },
  {
   "cell_type": "code",
   "execution_count": 30,
   "metadata": {
    "collapsed": true
   },
   "outputs": [],
   "source": [
    "D_matematyczne = np.sqrt(matematyczne.std(0)**2+(D_czas**2)/3)"
   ]
  },
  {
   "cell_type": "code",
   "execution_count": 7,
   "metadata": {
    "collapsed": false
   },
   "outputs": [
    {
     "data": {
      "text/plain": [
       "10    0.646681\n",
       "20    0.928077\n",
       "30    0.894435\n",
       "40    0.756247\n",
       "dtype: float64"
      ]
     },
     "execution_count": 7,
     "metadata": {},
     "output_type": "execute_result"
    }
   ],
   "source": [
    "matematyczne.mean(0)/matematyczne_okres(matematyczne_kat)"
   ]
  },
  {
   "cell_type": "code",
   "execution_count": 47,
   "metadata": {
    "collapsed": false
   },
   "outputs": [
    {
     "data": {
      "image/png": "[encoded data removed]",
      "text/plain": [
       "<matplotlib.figure.Figure at 0x1f3b2294278>"
      ]
     },
     "metadata": {},
     "output_type": "display_data"
    }
   ],
   "source": [
    "matematyczne_pelnia = np.linspace(10*stopien,40*stopien)\n",
    "plt.errorbar(matematyczne_kat[1:],matematyczne.mean(0)[1:]/4,D_matematyczne[1:]/4,D_phi/stopien,'k.', label=\"Punkty pomiarowe\",lw=1)\n",
    "plt.plot(matematyczne_pelnia/stopien,matematyczne_okres(matematyczne_pelnia),'k', label=\"Krzywa teoretyczna\",lw=1)\n",
    "# plt.plot((matematyczne_pelnia+D_phi)/stopien,matematyczne_okres(matematyczne_pelnia+D_phi),'--k', \\\n",
    "#          label=\"Granice niepewności krzywej teoretycznej\",lw=1)\n",
    "# plt.plot((matematyczne_pelnia-D_phi)/stopien,matematyczne_okres(matematyczne_pelnia-D_phi),'--k',lw=1)\n",
    "plt.ylabel('T[s]')\n",
    "plt.xlabel(r'$\\phi[^\\circ]$')\n",
    "plt.title('Wykres dla wahadła matematycznego')\n",
    "plt.grid()\n",
    "plt.legend(loc='best')\n",
    "plt.savefig('Wykres_matematyczne.eps')"
   ]
  },
  {
   "cell_type": "code",
   "execution_count": 37,
   "metadata": {
    "collapsed": false
   },
   "outputs": [
    {
     "data": {
      "text/plain": [
       "1.2909944487358054"
      ]
     },
     "execution_count": 37,
     "metadata": {},
     "output_type": "execute_result"
    }
   ],
   "source": [
    "D_phi/stopien"
   ]
  },
  {
   "cell_type": "code",
   "execution_count": 9,
   "metadata": {
    "collapsed": true
   },
   "outputs": [],
   "source": [
    "roznicowe_reshaped = roznicowe.mean(0).values.reshape(roznicowe.mean(0).size, 1)\n",
    "roznicowe_roznice = roznicowe_reshaped.T**2 - roznicowe_reshaped**2\n",
    "roznicowe_wykres = np.triu(roznicowe_roznice).flatten()\n",
    "roznicowe_lina_reshaped = roznicowe_lina.reshape(roznicowe_lina.size, 1)\n",
    "roznicowe_lina_roznice = roznicowe_lina_reshaped.T - roznicowe_lina_reshaped\n",
    "roznicowe_lina_wykres = np.triu(roznicowe_lina_roznice).flatten()\n",
    "tutaj_sa_zera = roznicowe_lina_wykres == 0\n",
    "roznicowe_lina_wykres = roznicowe_lina_wykres[~tutaj_sa_zera]/100\n",
    "roznicowe_wykres = roznicowe_wykres[~tutaj_sa_zera]"
   ]
  },
  {
   "cell_type": "code",
   "execution_count": 10,
   "metadata": {
    "collapsed": false
   },
   "outputs": [],
   "source": [
    "D_roznicowe_reshaped = roznicowe.std(0).values.reshape(roznicowe.std(0).size,1)\n",
    "D_roznicowe2 = D_roznicowe_reshaped**2+(1e-3**2)/3\n",
    "D_roznicowe_roznice = D_roznicowe2.T + D_roznicowe2\n",
    "D_roznicowe_wykres = np.triu(D_roznicowe_roznice).flatten()\n",
    "D_roznicowe_wykres = D_roznicowe_wykres[~tutaj_sa_zera]\n",
    "D_roznicowe_lina = np.sqrt((D_dlugosc)**2/3 + (D_dlugosc/2)**2/3)\n",
    "D_roznicowe_lina_wykres = D_roznicowe_lina*2"
   ]
  },
  {
   "cell_type": "code",
   "execution_count": 11,
   "metadata": {
    "collapsed": false
   },
   "outputs": [
    {
     "data": {
      "image/png": "[encoded data removed]",
      "text/plain": [
       "<matplotlib.figure.Figure at 0x1f3b08b1860>"
      ]
     },
     "metadata": {},
     "output_type": "display_data"
    }
   ],
   "source": [
    "plt.errorbar(roznicowe_lina_wykres*100,roznicowe_wykres,D_roznicowe_wykres,D_roznicowe_lina_wykres,'k.',label='punkty pomiarowe',lw=1)\n",
    "grawitacyjna, D_grawitacyjna = np.polyfit(roznicowe_lina_wykres*100,roznicowe_wykres,1,cov=True)\n",
    "plt.plot(roznicowe_lina_wykres*100,np.polyval(grawitacyjna,roznicowe_lina_wykres*100),'k',label='dopasowana prosta',lw=1)\n",
    "roznicowe_lina_wykres.size\n",
    "plt.xlabel(r'$l_i-l_j[cm]$', fontsize=14)\n",
    "plt.ylabel(r'$T^2_i-T^2_j[s]$', fontsize=14)\n",
    "plt.title('Wykres dla wahadla roznicowego')\n",
    "plt.grid()\n",
    "plt.legend(loc='best')\n",
    "plt.savefig('Wykres_roznicowe.eps')"
   ]
  },
  {
   "cell_type": "code",
   "execution_count": 12,
   "metadata": {
    "collapsed": false
   },
   "outputs": [
    {
     "ename": "NameError",
     "evalue": "name 'r' is not defined",
     "output_type": "error",
     "traceback": [
      "\u001b[0;31m---------------------------------------------------------------------------\u001b[0m",
      "\u001b[0;31mNameError\u001b[0m                                 Traceback (most recent call last)",
      "\u001b[0;32m<ipython-input-12-94513f9e5977>\u001b[0m in \u001b[0;36m<module>\u001b[0;34m()\u001b[0m\n\u001b[1;32m      2\u001b[0m \u001b[0mDataframe\u001b[0m\u001b[1;33m[\u001b[0m\u001b[1;34mr'l[cm]'\u001b[0m\u001b[1;33m]\u001b[0m \u001b[1;33m=\u001b[0m \u001b[0mroznicowe_lina\u001b[0m\u001b[1;33m\u001b[0m\u001b[0m\n\u001b[1;32m      3\u001b[0m \u001b[0mDataframe\u001b[0m\u001b[1;33m[\u001b[0m\u001b[1;34mr'$\\Delta$l[cm]'\u001b[0m\u001b[1;33m]\u001b[0m \u001b[1;33m=\u001b[0m \u001b[0mD_dlugosc\u001b[0m\u001b[1;33m\u001b[0m\u001b[0m\n\u001b[0;32m----> 4\u001b[0;31m \u001b[0mDataframe\u001b[0m\u001b[1;33m[\u001b[0m\u001b[0mr\u001b[0m\u001b[1;33m]\u001b[0m\u001b[1;33m\u001b[0m\u001b[0m\n\u001b[0m",
      "\u001b[0;31mNameError\u001b[0m: name 'r' is not defined"
     ]
    }
   ],
   "source": [
    "Dataframe = pd.DataFrame()\n",
    "Dataframe[r'l[cm]'] = roznicowe_lina\n",
    "Dataframe[r'$\\Delta$l[cm]'] = D_dlugosc\n",
    "Dataframe[r]"
   ]
  },
  {
   "cell_type": "code",
   "execution_count": null,
   "metadata": {
    "collapsed": false
   },
   "outputs": [],
   "source": [
    "grawitacja = 4*np.pi**2*ciag_przyblizen(15*stopien)/grawitacyjna[0]\n",
    "D_grawitacja = np.sqrt((1e-3*grawitacja/ciag_przyblizen(15*stopien))**2+\\\n",
    "                       (np.sqrt(D_grawitacyjna[0,0])*grawitacja/grawitacyjna[0])**2)\n",
    "print(f'g = {grawitacja:.3f} +/- {D_grawitacja:.3f}')"
   ]
  }
 ],
 "metadata": {
  "kernelspec": {
   "display_name": "Python 3",
   "language": "python",
   "name": "python3"
  },
  "language_info": {
   "codemirror_mode": {
    "name": "ipython",
    "version": 3
   },
   "file_extension": ".py",
   "mimetype": "text/x-python",
   "name": "python",
   "nbconvert_exporter": "python",
   "pygments_lexer": "ipython3",
   "version": "3.6.0"
  }
 },
 "nbformat": 4,
 "nbformat_minor": 2
}
