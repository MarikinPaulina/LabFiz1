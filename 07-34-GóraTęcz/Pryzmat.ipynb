{
 "cells": [
  {
   "cell_type": "code",
   "execution_count": 1,
   "metadata": {
    "collapsed": true
   },
   "outputs": [],
   "source": [
    "import numpy as np\n",
    "import matplotlib.pyplot as plt\n",
    "import pandas as pd\n",
    "from matplotlib import rc\n",
    "from scipy.optimize import curve_fit\n",
    "%matplotlib inline"
   ]
  },
  {
   "cell_type": "code",
   "execution_count": 6,
   "metadata": {
    "collapsed": true
   },
   "outputs": [],
   "source": [
    "rc('font', family='Comic Sans MS')\n",
    "Neon = pd.read_csv(\"Neon.csv\")\n",
    "stopien = np.pi/180\n",
    "minuta = stopien/60\n",
    "alpha_0 = 45*stopien +30*minuta\n",
    "Na_zolte = 346*stopien + 50*minuta\n",
    "Na_zielone = 145*stopien+ 30*minuta\n",
    "Delta_obserwatora = 2*minuta\n",
    "AL = 176*stopien\n",
    "AP = 56*stopien\n",
    "kat_lamiacy = AL - AP"
   ]
  },
  {
   "cell_type": "code",
   "execution_count": 15,
   "metadata": {
    "collapsed": false
   },
   "outputs": [
    {
     "data": {
      "image/png": "[encoded data removed]",
      "text/plain": [
       "<matplotlib.figure.Figure at 0x2b3a9d41630>"
      ]
     },
     "metadata": {},
     "output_type": "display_data"
    }
   ],
   "source": [
    "Neon_kat = Neon['alpha[circ]']*stopien+Neon['alpha[min]']*minuta-alpha_0\n",
    "n_neon = np.sin((Neon_kat+kat_lamiacy)/2)/np.sin(kat_lamiacy/2)\n",
    "plt.plot(Neon['lambda[nm]'],n_neon,'.')\n",
    "plt.xlabel(r'$\\lambda$'); plt.ylabel(r'$n_{\\lambda}$'); plt.grid(); plt.title('Krzywa dyspersji z pomiarami z neonu')\n",
    "plt.savefig('dyspersja.png')"
   ]
  }
 ],
 "metadata": {
  "kernelspec": {
   "display_name": "Python 3",
   "language": "python",
   "name": "python3"
  },
  "language_info": {
   "codemirror_mode": {
    "name": "ipython",
    "version": 3
   },
   "file_extension": ".py",
   "mimetype": "text/x-python",
   "name": "python",
   "nbconvert_exporter": "python",
   "pygments_lexer": "ipython3",
   "version": "3.6.0"
  }
 },
 "nbformat": 4,
 "nbformat_minor": 2
}
