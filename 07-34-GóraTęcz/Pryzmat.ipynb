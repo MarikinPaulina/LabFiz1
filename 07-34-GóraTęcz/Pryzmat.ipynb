{
 "cells": [
  {
   "cell_type": "code",
   "execution_count": 1,
   "metadata": {
    "collapsed": true
   },
   "outputs": [],
   "source": [
    "import numpy as np\n",
    "import matplotlib.pyplot as plt\n",
    "import pandas as pd\n",
    "from matplotlib import rc\n",
    "from scipy.optimize import curve_fit\n",
    "import sympy as sp\n",
    "%matplotlib inline"
   ]
  },
  {
   "cell_type": "code",
   "execution_count": 4,
   "metadata": {
    "collapsed": false
   },
   "outputs": [],
   "source": [
    "rc('font', family='Comic Sans MS')\n",
    "Neon = pd.read_csv(\"Neon.csv\")\n",
    "stopien = np.pi/180\n",
    "minuta = stopien/60\n",
    "alpha_0 = 45*stopien +30*minuta\n",
    "Na_zolte = 346*stopien + 50*minuta\n",
    "Na_zielone = 145*stopien+ 30*minuta\n",
    "D_miarki = 2*minuta\n",
    "D_obserwatora = 2*minuta\n",
    "D_kat = np.sqrt(D_miarki**2+D_obserwatora**2)\n",
    "AL = 176*stopien\n",
    "AP = 56*stopien\n",
    "kat_lamiacy = (AL - AP)/2\n",
    "D_kat_lamiacy = np.sqrt(2)*D_kat/2"
   ]
  },
  {
   "cell_type": "code",
   "execution_count": 5,
   "metadata": {
    "collapsed": false
   },
   "outputs": [
    {
     "name": "stdout",
     "output_type": "stream",
     "text": [
      "\\begin{tabular}{lrrr}\n",
      "\\toprule\n",
      "{} &  lambda[nm] &  alpha[circ] &  alpha[min] \\\\\n",
      "\\midrule\n",
      "0  &         654 &          348 &          18 \\\\\n",
      "1  &         651 &          348 &          10 \\\\\n",
      "2  &         641 &          348 &           0 \\\\\n",
      "3  &         614 &          347 &          46 \\\\\n",
      "4  &         610 &          347 &          40 \\\\\n",
      "5  &         603 &          347 &          26 \\\\\n",
      "6  &         591 &          347 &          10 \\\\\n",
      "7  &         588 &          347 &           0 \\\\\n",
      "8  &         540 &          346 &          20 \\\\\n",
      "9  &         534 &          346 &          10 \\\\\n",
      "10 &         470 &          345 &          48 \\\\\n",
      "11 &         454 &          344 &          44 \\\\\n",
      "\\bottomrule\n",
      "\\end{tabular}\n",
      "\n"
     ]
    }
   ],
   "source": [
    "print(Neon.to_latex())"
   ]
  },
  {
   "cell_type": "code",
   "execution_count": 77,
   "metadata": {
    "collapsed": false
   },
   "outputs": [
    {
     "data": {
      "image/png": "[encoded data removed]",
      "text/plain": [
       "<matplotlib.figure.Figure at 0x1f9cdab7898>"
      ]
     },
     "metadata": {},
     "output_type": "display_data"
    }
   ],
   "source": [
    "Neon_kat =2*np.pi-(Neon['alpha[circ]']*stopien+Neon['alpha[min]']*minuta)+alpha_0\n",
    "D_neon_kat = D_kat_lamiacy\n",
    "n_neon = np.sin((Neon_kat+kat_lamiacy)/2)/np.sin(kat_lamiacy/2)\n",
    "plt.errorbar(Neon['lambda[nm]'],n_neon,cala_delta_n,1,'.')\n",
    "plt.xlabel(r'$\\lambda[nm]$'); plt.ylabel(r'$n_{\\lambda}$'); plt.grid(); plt.title('Krzywa dyspersji z pomiarami z neonu')\n",
    "plt.savefig('dyspersja.png')"
   ]
  },
  {
   "cell_type": "code",
   "execution_count": 41,
   "metadata": {
    "collapsed": false
   },
   "outputs": [
    {
     "name": "stdout",
     "output_type": "stream",
     "text": [
      "0     0.000634\n",
      "1     0.000635\n",
      "2     0.000636\n",
      "3     0.000637\n",
      "4     0.000638\n",
      "5     0.000639\n",
      "6     0.000641\n",
      "7     0.000642\n",
      "8     0.000646\n",
      "9     0.000647\n",
      "10    0.000649\n",
      "11    0.000655\n",
      "dtype: float64\n"
     ]
    }
   ],
   "source": [
    "zmienne = kat_lamiacy_analityczne, Neon_kat_analityczne = sp.symbols('phi, epsilon_0',real=True)\n",
    "n_analitycznie = sp.sin((Neon_kat_analityczne+kat_lamiacy_analityczne)/2)/sp.sin(kat_lamiacy_analityczne/2)\n",
    "pochodna_phi = n_analitycznie.diff(kat_lamiacy_analityczne).simplify()\n",
    "funkcja_phi = sp.lambdify(zmienne,pochodna_phi,modules='numpy')\n",
    "wklad_phi =(funkcja_phi(kat_lamiacy,Neon_kat)*D_kat_lamiacy)**2\n",
    "pochodna_epsilon = n_analitycznie.diff(Neon_kat_analityczne).simplify()\n",
    "funkcja_epsilon = sp.lambdify(zmienne,pochodna_epsilon,modules='numpy')\n",
    "wklad_epsilon =(funkcja_epsilon(kat_lamiacy,Neon_kat)*D_neon_kat)**2\n",
    "cala_delta_n = wklad_epsilon+wklad_phi\n",
    "cala_delta_n **= 0.5\n",
    "print(cala_delta_n)"
   ]
  },
  {
   "cell_type": "code",
   "execution_count": 84,
   "metadata": {
    "collapsed": false
   },
   "outputs": [
    {
     "name": "stdout",
     "output_type": "stream",
     "text": [
      "1.72029829579\n"
     ]
    },
    {
     "data": {
      "image/png": "[encoded data removed]",
      "text/plain": [
       "<matplotlib.figure.Figure at 0x1f9cda7f518>"
      ]
     },
     "metadata": {},
     "output_type": "display_data"
    }
   ],
   "source": [
    "plt.errorbar(Neon['lambda[nm]'],n_neon,cala_delta_n,1,'.')\n",
    "plt.xlabel(r'$\\lambda[nm]$'); plt.ylabel(r'$n_{\\lambda}$'); plt.grid(); plt.title('Krzywa dyspersji z pomiarami z neonu')\n",
    "plt.savefig('dyspersja.png')\n",
    "parametry1, kowariancja1 = np.polyfit(Neon['lambda[nm]'],n_neon,1,w=1/cala_delta_n,cov=True)\n",
    "plt.plot(Neon['lambda[nm]'],Neon['lambda[nm]']*parametry1[0]+parametry1[1])\n",
    "# parametry2, kowariancja2 = np.polyfit(Neon['lambda[nm]'],n_neon,2,w=1/cala_delta_n,cov=True)\n",
    "# plt.plot(Neon['lambda[nm]'],parametry2[0]*Neon['lambda[nm]']**2+Neon['lambda[nm]']*parametry2[1]+parametry2[2])\n",
    "# parametry3, kowariancja3 = np.polyfit(Neon['lambda[nm]'],n_neon,3,w=1/cala_delta_n,cov=True)\n",
    "# plt.plot(Neon['lambda[nm]'],parametry3[0]*Neon['lambda[nm]']**3+parametry3[1]*Neon['lambda[nm]']**2+\\\n",
    "#          parametry3[2]*Neon['lambda[nm]']+parametry3[3])\n",
    "n_Na_zolte = np.sin((2*np.pi-Na_zolte+alpha_0+kat_lamiacy)/2)/np.sin(kat_lamiacy/2)\n",
    "D_n_Na_zolte = np.sqrt((funkcja_epsilon(kat_lamiacy,Na_zolte)*D_neon_kat)**2+(funkcja_phi(kat_lamiacy,Na_zolte)*D_kat_lamiacy)**2)\n",
    "# n_Na_zielone = np.sin((Na_zielone-alpha_0+kat_lamiacy)/2)/np.sin(kat_lamiacy/2)\n",
    "print(n_Na_zolte)\n",
    "plt.errorbar(589,n_Na_zolte,D_n_Na_zolte,1,'yo')\n",
    "plt.savefig('Prosta krzywa i punkt.png')\n",
    "# plt.plot(570,n_Na_zielone,'go')"
   ]
  }
 ],
 "metadata": {
  "kernelspec": {
   "display_name": "Python 3",
   "language": "python",
   "name": "python3"
  },
  "language_info": {
   "codemirror_mode": {
    "name": "ipython",
    "version": 3
   },
   "file_extension": ".py",
   "mimetype": "text/x-python",
   "name": "python",
   "nbconvert_exporter": "python",
   "pygments_lexer": "ipython3",
   "version": "3.6.0"
  }
 },
 "nbformat": 4,
 "nbformat_minor": 2
}
