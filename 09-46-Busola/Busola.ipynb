{
 "cells": [
  {
   "cell_type": "code",
   "execution_count": 1,
   "metadata": {
    "collapsed": true
   },
   "outputs": [],
   "source": [
    "import numpy as np\n",
    "import matplotlib.pyplot as plt\n",
    "import pandas as pd\n",
    "from matplotlib import rc\n",
    "%matplotlib inline"
   ]
  },
  {
   "cell_type": "code",
   "execution_count": 60,
   "metadata": {
    "collapsed": false
   },
   "outputs": [],
   "source": [
    "rc('font', family='Comic Sans MS')\n",
    "N_1 = pd.read_csv('Zwoje_1.csv', sep=',\\s', engine='python')\n",
    "N_3 = pd.read_csv('Zwoje_3.csv', sep=',\\s', engine='python')\n",
    "N_5 = pd.read_csv('Zwoje_5.csv', sep=',\\s', engine='python')"
   ]
  },
  {
   "cell_type": "code",
   "execution_count": 18,
   "metadata": {
    "collapsed": true
   },
   "outputs": [],
   "source": [
    "stopien = np.pi/180\n",
    "R = 0.149\n",
    "D_alpha = np.sqrt((stopien**2)/3 + (stopien)/2**2/3)\n",
    "D_amper_1 = N_1['I[A]']*0.02+0.05\n",
    "D_amper_3 = N_3['I[A]']*0.02+0.05\n",
    "D_amper_5 = N_5['I[A]']*0.02+0.05"
   ]
  },
  {
   "cell_type": "code",
   "execution_count": 5,
   "metadata": {
    "collapsed": false
   },
   "outputs": [
    {
     "name": "stdout",
     "output_type": "stream",
     "text": [
      "\\begin{tabular}{lrr}\n",
      "\\toprule\n",
      "{} &  I[A] &  alpha[o] \\\\\n",
      "\\midrule\n",
      "0  &  0.04 &       2.5 \\\\\n",
      "1  &  0.26 &      12.5 \\\\\n",
      "2  &  0.18 &       9.0 \\\\\n",
      "3  &  0.37 &      17.0 \\\\\n",
      "4  &  0.48 &      21.0 \\\\\n",
      "5  &  0.61 &      26.0 \\\\\n",
      "6  &  0.88 &      38.0 \\\\\n",
      "7  &  1.15 &      40.0 \\\\\n",
      "8  &  1.35 &      45.0 \\\\\n",
      "9  &  1.65 &      50.0 \\\\\n",
      "10 &  2.43 &      60.0 \\\\\n",
      "11 &  3.23 &      66.0 \\\\\n",
      "\\bottomrule\n",
      "\\end{tabular}\n",
      "\n"
     ]
    }
   ],
   "source": [
    "print(N_3.to_latex())"
   ]
  },
  {
   "cell_type": "code",
   "execution_count": 6,
   "metadata": {
    "collapsed": false
   },
   "outputs": [
    {
     "name": "stdout",
     "output_type": "stream",
     "text": [
      "\\begin{tabular}{lrr}\n",
      "\\toprule\n",
      "{} &  I[A] &  alpha[o] \\\\\n",
      "\\midrule\n",
      "0  &  0.09 &       5.0 \\\\\n",
      "1  &  0.29 &      16.0 \\\\\n",
      "2  &  0.49 &      25.0 \\\\\n",
      "3  &  0.57 &      27.5 \\\\\n",
      "4  &  0.68 &      32.0 \\\\\n",
      "5  &  0.88 &      38.0 \\\\\n",
      "6  &  1.12 &      44.0 \\\\\n",
      "7  &  1.36 &      50.0 \\\\\n",
      "8  &  1.55 &      53.0 \\\\\n",
      "9  &  1.78 &      57.0 \\\\\n",
      "10 &  2.70 &      66.0 \\\\\n",
      "11 &  3.33 &      70.0 \\\\\n",
      "\\bottomrule\n",
      "\\end{tabular}\n",
      "\n"
     ]
    }
   ],
   "source": [
    "print(N_5.to_latex())"
   ]
  },
  {
   "cell_type": "code",
   "execution_count": 50,
   "metadata": {
    "collapsed": false
   },
   "outputs": [
    {
     "data": {
      "image/png": "[encoded data removed]",
      "text/plain": [
       "<matplotlib.figure.Figure at 0x255cee32978>"
      ]
     },
     "metadata": {},
     "output_type": "display_data"
    }
   ],
   "source": [
    "#Nowe, lepsze wykresy\n",
    "nad_I_1 = 1/N_1['I[A]']\n",
    "ctan_1 = 1/np.tan(N_1['alpha[o]']*stopien)\n",
    "D_ctan_1 = D_alpha/np.sin(N_1['alpha[o]']*stopien)**2\n",
    "D_nad_I_1 = D_amper_1/N_1['I[A]']**2\n",
    "plt.errorbar(nad_I_1,ctan_1,D_ctan_1,D_nad_I_1,'.',label='punkty pomiarowe',elinewidth=1)\n",
    "plt.ylim(0,25)\n",
    "plt.xlim(0,9)\n",
    "zakres = np.linspace(0.3,8.8)\n",
    "prosta_1, kowariancja_1 = np.polyfit(nad_I_1, ctan_1,1,cov=True,w=1/D_ctan_1)\n",
    "plt.plot(zakres, np.polyval(prosta_1, zakres),label='dopasowana prosta',linewidth=1)\n",
    "plt.grid()\n",
    "plt.xlabel(r'$\\frac{1}{I}[\\frac{1}{A}]$')\n",
    "plt.ylabel(r'$\\cot{\\varphi}$')\n",
    "plt.legend(loc='best')\n",
    "# plt.savefig(\"wykres_1.eps\")\n",
    "plt.savefig(\"wykres_1.png\")"
   ]
  },
  {
   "cell_type": "code",
   "execution_count": 63,
   "metadata": {
    "collapsed": false
   },
   "outputs": [
    {
     "data": {
      "image/png": "[encoded data removed]",
      "text/plain": [
       "<matplotlib.figure.Figure at 0x255ceb64518>"
      ]
     },
     "metadata": {},
     "output_type": "display_data"
    }
   ],
   "source": [
    "nad_I_3 = 1/N_3['I[A]']\n",
    "ctan_3 = 1/np.tan(N_3['alpha[o]']*stopien)\n",
    "D_ctan_3 = D_alpha/np.sin(N_3['alpha[o]']*stopien)**2\n",
    "D_nad_I_3 = D_amper_3/N_3['I[A]']**2\n",
    "plt.errorbar(nad_I_3,ctan_3,D_ctan_3,D_nad_I_3,'.',label='punkty pomiarowe',elinewidth=1)\n",
    "plt.ylim(0,8)\n",
    "plt.xlim(0,7)\n",
    "zakres = np.linspace(0,7.8)\n",
    "prosta_3, kowariancja_3 = np.polyfit(nad_I_3, ctan_3,1,cov=True,w=1/D_ctan_3)\n",
    "plt.plot(nad_I_3, np.polyval(prosta_3, nad_I_3),label='dopasowana prosta',linewidth=1)\n",
    "plt.grid()\n",
    "plt.xlabel(r'$\\frac{1}{I}[\\frac{1}{A}]$')\n",
    "plt.ylabel(r'$\\cot{\\varphi}$')\n",
    "plt.legend(loc='best')\n",
    "# plt.savefig(\"wykres_3.eps\")\n",
    "plt.savefig(\"wykres_3.png\")"
   ]
  },
  {
   "cell_type": "code",
   "execution_count": 66,
   "metadata": {
    "collapsed": false
   },
   "outputs": [
    {
     "data": {
      "image/png": "[encoded data removed]",
      "text/plain": [
       "<matplotlib.figure.Figure at 0x255ceed25f8>"
      ]
     },
     "metadata": {},
     "output_type": "display_data"
    }
   ],
   "source": [
    "nad_I_5 = 1/N_5['I[A]']\n",
    "ctan_5 = 1/np.tan(N_5['alpha[o]']*stopien)\n",
    "D_ctan_5 = D_alpha/np.sin(N_5['alpha[o]']*stopien)**2\n",
    "D_nad_I_5 = D_amper_5/N_5['I[A]']**2\n",
    "plt.errorbar(nad_I_5,ctan_5,D_ctan_5,D_nad_I_5,'.',label='punkty pomiarowe',elinewidth=1)\n",
    "plt.ylim(0,4)\n",
    "plt.xlim(0,4)\n",
    "zakres = np.linspace(0.2,4)\n",
    "prosta_5, kowariancja_5 = np.polyfit(nad_I_5, ctan_5,1,cov=True,w=1/D_ctan_5)\n",
    "plt.plot(zakres, np.polyval(prosta_5, zakres),label='dopasowana prosta',linewidth=1)\n",
    "plt.grid()\n",
    "plt.xlabel(r'$\\frac{1}{I}[\\frac{1}{A}]$')\n",
    "plt.ylabel(r'$\\cot{\\varphi}$')\n",
    "plt.legend(loc='best')\n",
    "# plt.savefig(\"wykres_5.eps\")\n",
    "plt.savefig(\"wykres_5.png\")"
   ]
  },
  {
   "cell_type": "code",
   "execution_count": 45,
   "metadata": {
    "collapsed": true
   },
   "outputs": [],
   "source": [
    "#Nowe, lepsze tabelki (praca w toku)\n",
    "with open(\"tabelka_1.tex\", \"w\") as file:\n",
    "    dataframe = pd.DataFrame(columns=[\"$\\varphi[^\\circ]$\",\"I[A]\",\"$\\Delta$I[A]\",\"$\\frac{1}{I}$\",\"$\\Delta \\frac{1}{I}$\",\\\n",
    "                                      \"$\\cot{\\varphi}$\",\"$\\Delta \\cot{\\varphi}$\"])\n",
    "    dataframe[\"$\\varphi[^\\circ]$\"] = N_1['alpha[o]']\n",
    "    dataframe[\"I[A]\"] = N_1['I[A]']\n",
    "    dataframe[\"$\\Delta$I[A]\"] = D_amper_1\n",
    "    dataframe[\"$\\frac{1}{I}$\"] = nad_I_1\n",
    "    dataframe[\"$\\Delta \\frac{1}{I}$\"] = D_nad_I_1\n",
    "    dataframe[\"$\\cot{\\varphi}$\"] = ctan_1\n",
    "    dataframe[\"$\\Delta \\cot{\\varphi}$\"] = D_ctan_1\n",
    "    file.write(dataframe.to_latex())"
   ]
  },
  {
   "cell_type": "code",
   "execution_count": 59,
   "metadata": {
    "collapsed": false
   },
   "outputs": [
    {
     "name": "stdout",
     "output_type": "stream",
     "text": [
      "Dla 1 zwoju  H_g = 9.746 +/- 0.136\n",
      "Dla 3 zwojów H_g = 11.705 +/- 0.153\n",
      "Dla 5 zwojów H_g = 17.749 +/- 0.070\n"
     ]
    }
   ],
   "source": [
    "#Nowe, 'lepsze' wyniki z niepewnościami (technicznie skończone, ale tak nie może być)\n",
    "H_g_1 = prosta_1[0]*1/(2*R)\n",
    "D_H_g_1 = np.sqrt( kowariancja_1[0,0]*1/(2*R))\n",
    "print(f'Dla 1 zwoju  H_g = {H_g_1:.3f} +/- {D_H_g_1:.3f}')\n",
    "H_g_3 = prosta_3[0]*3/(2*R)\n",
    "D_H_g_3 = np.sqrt( kowariancja_3[0,0]*3/(2*R))\n",
    "print(f'Dla 3 zwojów H_g = {H_g_3:.3f} +/- {D_H_g_3:.3f}')\n",
    "H_g_5 = prosta_5[0]*5/(2*R)\n",
    "D_H_g_5 = np.sqrt( kowariancja_5[0,0]*5/(2*R))\n",
    "print(f'Dla 5 zwojów H_g = {H_g_5:.3f} +/- {D_H_g_5:.3f}')"
   ]
  }
 ],
 "metadata": {
  "kernelspec": {
   "display_name": "Python 3",
   "language": "python",
   "name": "python3"
  },
  "language_info": {
   "codemirror_mode": {
    "name": "ipython",
    "version": 3
   },
   "file_extension": ".py",
   "mimetype": "text/x-python",
   "name": "python",
   "nbconvert_exporter": "python",
   "pygments_lexer": "ipython3",
   "version": "3.6.0"
  }
 },
 "nbformat": 4,
 "nbformat_minor": 2
}
