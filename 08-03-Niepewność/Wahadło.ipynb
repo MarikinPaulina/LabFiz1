{
 "cells": [
  {
   "cell_type": "code",
   "execution_count": 1,
   "metadata": {
    "collapsed": true
   },
   "outputs": [],
   "source": [
    "import numpy as np\n",
    "import matplotlib.pyplot as plt\n",
    "import pandas as pd\n",
    "from matplotlib import rc\n",
    "from scipy.optimize import curve_fit\n",
    "%matplotlib inline"
   ]
  },
  {
   "cell_type": "code",
   "execution_count": 35,
   "metadata": {
    "collapsed": false
   },
   "outputs": [],
   "source": [
    "rc('font', family='Comic Sans MS')\n",
    "matematyczne=pd.read_csv('dlugosc50cm.csv')\n",
    "roznicowe=pd.read_csv('kat15stopni.csv')\n",
    "stopien = np.pi/180\n",
    "D_alpha = stopien*2\n",
    "dlugosc=50\n",
    "alpha=15*stopien\n",
    "D_dlugosc = 0.5\n",
    "D_czas = 1e-4\n",
    "matematyczne_kat = list(range(10,41,10))\n",
    "roznicowe_lina = list(range(0,51,10))\n",
    "roznicowe_lina[0] = 1.5"
   ]
  },
  {
   "cell_type": "code",
   "execution_count": 9,
   "metadata": {
    "collapsed": false
   },
   "outputs": [
    {
     "name": "stdout",
     "output_type": "stream",
     "text": [
      "\\begin{tabular}{lrrrr}\n",
      "\\toprule\n",
      "{} &      10 &      20 &      30 &      40 \\\\\n",
      "\\midrule\n",
      "0 &  4.9223 &  5.7827 &  5.7889 &  5.8451 \\\\\n",
      "1 &  5.6868 &  5.7221 &  5.7733 &  5.8451 \\\\\n",
      "2 &  4.9163 &  5.7227 &  5.7745 &  5.8525 \\\\\n",
      "3 &  5.6908 &  5.7202 &  5.7716 &  5.8456 \\\\\n",
      "4 &  4.9222 &  5.7210 &  5.7750 &  5.8459 \\\\\n",
      "\\bottomrule\n",
      "\\end{tabular}\n",
      "\n"
     ]
    }
   ],
   "source": [
    "print(matematyczne.to_latex())"
   ]
  },
  {
   "cell_type": "code",
   "execution_count": 11,
   "metadata": {
    "collapsed": false
   },
   "outputs": [
    {
     "name": "stdout",
     "output_type": "stream",
     "text": [
      "\\begin{tabular}{lrrrrrr}\n",
      "\\toprule\n",
      "{} &      50 &      40 &      30 &      20 &      10 &     1.5 \\\\\n",
      "\\midrule\n",
      "0 &  1.2158 &  1.3703 &  1.5107 &  1.6406 &  1.7587 &  1.8516 \\\\\n",
      "1 &  1.2122 &  1.3690 &  1.5121 &  1.6403 &  1.7599 &  1.8525 \\\\\n",
      "2 &  1.2103 &  1.3705 &  1.5118 &  1.6403 &  1.7605 &  1.8518 \\\\\n",
      "3 &  1.2121 &  1.3703 &  1.5124 &  1.6402 &  1.7597 &  1.8516 \\\\\n",
      "4 &  1.2126 &  1.3706 &  1.5124 &  1.6408 &  1.7599 &  1.8518 \\\\\n",
      "5 &  1.2136 &  1.3704 &  1.5120 &  1.6400 &  1.7605 &  1.8523 \\\\\n",
      "\\bottomrule\n",
      "\\end{tabular}\n",
      "\n"
     ]
    }
   ],
   "source": [
    "print(roznicowe.to_latex())"
   ]
  },
  {
   "cell_type": "code",
   "execution_count": 40,
   "metadata": {
    "collapsed": false
   },
   "outputs": [
    {
     "data": {
      "text/plain": [
       "[<matplotlib.lines.Line2D at 0x1096b103ac8>]"
      ]
     },
     "execution_count": 40,
     "metadata": {},
     "output_type": "execute_result"
    },
    {
     "data": {
      "image/png": "[encoded data removed]",
      "text/plain": [
       "<matplotlib.figure.Figure at 0x1096b088d30>"
      ]
     },
     "metadata": {},
     "output_type": "display_data"
    }
   ],
   "source": [
    "matematyczne.mean(0)\n",
    "plt.plot(matematyczne_kat,matematyczne.mean(0),'o')"
   ]
  },
  {
   "cell_type": "code",
   "execution_count": null,
   "metadata": {
    "collapsed": true
   },
   "outputs": [],
   "source": []
  }
 ],
 "metadata": {
  "kernelspec": {
   "display_name": "Python 3",
   "language": "python",
   "name": "python3"
  },
  "language_info": {
   "codemirror_mode": {
    "name": "ipython",
    "version": 3
   },
   "file_extension": ".py",
   "mimetype": "text/x-python",
   "name": "python",
   "nbconvert_exporter": "python",
   "pygments_lexer": "ipython3",
   "version": "3.6.0"
  }
 },
 "nbformat": 4,
 "nbformat_minor": 2
}
