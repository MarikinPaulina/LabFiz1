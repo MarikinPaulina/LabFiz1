{
 "cells": [
  {
   "cell_type": "code",
   "execution_count": 1,
   "metadata": {
    "collapsed": true
   },
   "outputs": [],
   "source": [
    "import numpy as np\n",
    "import matplotlib.pyplot as plt\n",
    "import pandas as pd\n",
    "import matplotlib\n",
    "from scipy.optimize import curve_fit\n",
    "%matplotlib inline"
   ]
  },
  {
   "cell_type": "code",
   "execution_count": 2,
   "metadata": {
    "collapsed": false
   },
   "outputs": [
    {
     "data": {
      "text/html": [
       "<div>\n",
       "<table border=\"1\" class=\"dataframe\">\n",
       "  <thead>\n",
       "    <tr style=\"text-align: right;\">\n",
       "      <th></th>\n",
       "      <th>T[C]</th>\n",
       "      <th>U[mV]</th>\n",
       "    </tr>\n",
       "  </thead>\n",
       "  <tbody>\n",
       "    <tr>\n",
       "      <th>0</th>\n",
       "      <td>20</td>\n",
       "      <td>452</td>\n",
       "    </tr>\n",
       "    <tr>\n",
       "      <th>1</th>\n",
       "      <td>95</td>\n",
       "      <td>452</td>\n",
       "    </tr>\n",
       "    <tr>\n",
       "      <th>2</th>\n",
       "      <td>117</td>\n",
       "      <td>449</td>\n",
       "    </tr>\n",
       "    <tr>\n",
       "      <th>3</th>\n",
       "      <td>122</td>\n",
       "      <td>447</td>\n",
       "    </tr>\n",
       "    <tr>\n",
       "      <th>4</th>\n",
       "      <td>128</td>\n",
       "      <td>442</td>\n",
       "    </tr>\n",
       "    <tr>\n",
       "      <th>5</th>\n",
       "      <td>133</td>\n",
       "      <td>436</td>\n",
       "    </tr>\n",
       "    <tr>\n",
       "      <th>6</th>\n",
       "      <td>137</td>\n",
       "      <td>435</td>\n",
       "    </tr>\n",
       "    <tr>\n",
       "      <th>7</th>\n",
       "      <td>141</td>\n",
       "      <td>429</td>\n",
       "    </tr>\n",
       "    <tr>\n",
       "      <th>8</th>\n",
       "      <td>144</td>\n",
       "      <td>422</td>\n",
       "    </tr>\n",
       "    <tr>\n",
       "      <th>9</th>\n",
       "      <td>147</td>\n",
       "      <td>416</td>\n",
       "    </tr>\n",
       "    <tr>\n",
       "      <th>10</th>\n",
       "      <td>150</td>\n",
       "      <td>407</td>\n",
       "    </tr>\n",
       "    <tr>\n",
       "      <th>11</th>\n",
       "      <td>153</td>\n",
       "      <td>396</td>\n",
       "    </tr>\n",
       "    <tr>\n",
       "      <th>12</th>\n",
       "      <td>156</td>\n",
       "      <td>383</td>\n",
       "    </tr>\n",
       "    <tr>\n",
       "      <th>13</th>\n",
       "      <td>159</td>\n",
       "      <td>361</td>\n",
       "    </tr>\n",
       "    <tr>\n",
       "      <th>14</th>\n",
       "      <td>162</td>\n",
       "      <td>334</td>\n",
       "    </tr>\n",
       "    <tr>\n",
       "      <th>15</th>\n",
       "      <td>165</td>\n",
       "      <td>301</td>\n",
       "    </tr>\n",
       "    <tr>\n",
       "      <th>16</th>\n",
       "      <td>168</td>\n",
       "      <td>262</td>\n",
       "    </tr>\n",
       "    <tr>\n",
       "      <th>17</th>\n",
       "      <td>170</td>\n",
       "      <td>221</td>\n",
       "    </tr>\n",
       "    <tr>\n",
       "      <th>18</th>\n",
       "      <td>173</td>\n",
       "      <td>183</td>\n",
       "    </tr>\n",
       "    <tr>\n",
       "      <th>19</th>\n",
       "      <td>176</td>\n",
       "      <td>146</td>\n",
       "    </tr>\n",
       "    <tr>\n",
       "      <th>20</th>\n",
       "      <td>179</td>\n",
       "      <td>111</td>\n",
       "    </tr>\n",
       "    <tr>\n",
       "      <th>21</th>\n",
       "      <td>183</td>\n",
       "      <td>78</td>\n",
       "    </tr>\n",
       "    <tr>\n",
       "      <th>22</th>\n",
       "      <td>186</td>\n",
       "      <td>57</td>\n",
       "    </tr>\n",
       "    <tr>\n",
       "      <th>23</th>\n",
       "      <td>189</td>\n",
       "      <td>42</td>\n",
       "    </tr>\n",
       "    <tr>\n",
       "      <th>24</th>\n",
       "      <td>192</td>\n",
       "      <td>34</td>\n",
       "    </tr>\n",
       "    <tr>\n",
       "      <th>25</th>\n",
       "      <td>195</td>\n",
       "      <td>29</td>\n",
       "    </tr>\n",
       "    <tr>\n",
       "      <th>26</th>\n",
       "      <td>198</td>\n",
       "      <td>25</td>\n",
       "    </tr>\n",
       "    <tr>\n",
       "      <th>27</th>\n",
       "      <td>201</td>\n",
       "      <td>22</td>\n",
       "    </tr>\n",
       "    <tr>\n",
       "      <th>28</th>\n",
       "      <td>203</td>\n",
       "      <td>21</td>\n",
       "    </tr>\n",
       "    <tr>\n",
       "      <th>29</th>\n",
       "      <td>206</td>\n",
       "      <td>20</td>\n",
       "    </tr>\n",
       "    <tr>\n",
       "      <th>30</th>\n",
       "      <td>208</td>\n",
       "      <td>19</td>\n",
       "    </tr>\n",
       "    <tr>\n",
       "      <th>31</th>\n",
       "      <td>211</td>\n",
       "      <td>18</td>\n",
       "    </tr>\n",
       "  </tbody>\n",
       "</table>\n",
       "</div>"
      ],
      "text/plain": [
       "    T[C]  U[mV]\n",
       "0     20    452\n",
       "1     95    452\n",
       "2    117    449\n",
       "3    122    447\n",
       "4    128    442\n",
       "5    133    436\n",
       "6    137    435\n",
       "7    141    429\n",
       "8    144    422\n",
       "9    147    416\n",
       "10   150    407\n",
       "11   153    396\n",
       "12   156    383\n",
       "13   159    361\n",
       "14   162    334\n",
       "15   165    301\n",
       "16   168    262\n",
       "17   170    221\n",
       "18   173    183\n",
       "19   176    146\n",
       "20   179    111\n",
       "21   183     78\n",
       "22   186     57\n",
       "23   189     42\n",
       "24   192     34\n",
       "25   195     29\n",
       "26   198     25\n",
       "27   201     22\n",
       "28   203     21\n",
       "29   206     20\n",
       "30   208     19\n",
       "31   211     18"
      ]
     },
     "execution_count": 2,
     "metadata": {},
     "output_type": "execute_result"
    }
   ],
   "source": [
    "plt.rc('font', family='Comic Sans MS')\n",
    "Dane = pd.read_csv(\"Pomiary.csv\")\n",
    "Dane"
   ]
  },
  {
   "cell_type": "code",
   "execution_count": 3,
   "metadata": {
    "collapsed": false
   },
   "outputs": [
    {
     "name": "stderr",
     "output_type": "stream",
     "text": [
      "C:\\Users\\Paulina\\Anaconda3\\lib\\site-packages\\ipykernel\\__main__.py:4: RuntimeWarning: invalid value encountered in power\n"
     ]
    },
    {
     "data": {
      "text/plain": [
       "[<matplotlib.lines.Line2D at 0x192803436a0>]"
      ]
     },
     "execution_count": 3,
     "metadata": {},
     "output_type": "execute_result"
    },
    {
     "data": {
      "image/png": "[encoded data removed]",
      "text/plain": [
       "<matplotlib.figure.Figure at 0x19285864ef0>"
      ]
     },
     "metadata": {},
     "output_type": "display_data"
    }
   ],
   "source": [
    "Teoria_T_C = 200\n",
    "Teoria = np.linspace(0,200)\n",
    "Teoria2 = np.linspace(201,400)\n",
    "plt.plot(Teoria,(Teoria-Teoria_T_C)**1.5)\n",
    "plt.plot(Teoria2,1/(Teoria2-Teoria_T_C))"
   ]
  },
  {
   "cell_type": "code",
   "execution_count": 4,
   "metadata": {
    "collapsed": false
   },
   "outputs": [
    {
     "name": "stdout",
     "output_type": "stream",
     "text": [
      "\\begin{tabular}{lrrrr}\n",
      "\\toprule\n",
      "{} &      0 &      1 &      2 &       3 \\\\\n",
      "\\midrule\n",
      "0  &   20.0 &  5.100 &  452.0 &  11.780 \\\\\n",
      "1  &   95.0 &  5.475 &  452.0 &  11.780 \\\\\n",
      "2  &  117.0 &  5.585 &  449.0 &  11.735 \\\\\n",
      "3  &  122.0 &  5.610 &  447.0 &  11.705 \\\\\n",
      "4  &  128.0 &  5.640 &  442.0 &  11.630 \\\\\n",
      "5  &  133.0 &  5.665 &  436.0 &  11.540 \\\\\n",
      "6  &  137.0 &  5.685 &  435.0 &  11.525 \\\\\n",
      "7  &  141.0 &  5.705 &  429.0 &  11.435 \\\\\n",
      "8  &  144.0 &  5.720 &  422.0 &  11.330 \\\\\n",
      "9  &  147.0 &  5.735 &  416.0 &  11.240 \\\\\n",
      "10 &  150.0 &  5.750 &  407.0 &  11.105 \\\\\n",
      "11 &  153.0 &  5.765 &  396.0 &  10.940 \\\\\n",
      "12 &  156.0 &  5.780 &  383.0 &  10.745 \\\\\n",
      "13 &  159.0 &  5.795 &  361.0 &  10.415 \\\\\n",
      "14 &  162.0 &  5.810 &  334.0 &  10.010 \\\\\n",
      "15 &  165.0 &  5.825 &  301.0 &   9.515 \\\\\n",
      "16 &  168.0 &  5.840 &  262.0 &   8.930 \\\\\n",
      "17 &  170.0 &  5.850 &  221.0 &   8.315 \\\\\n",
      "18 &  173.0 &  5.865 &  183.0 &   7.745 \\\\\n",
      "19 &  176.0 &  5.880 &  146.0 &   7.190 \\\\\n",
      "20 &  179.0 &  5.895 &  111.0 &   6.665 \\\\\n",
      "21 &  183.0 &  5.915 &   78.0 &   6.170 \\\\\n",
      "22 &  186.0 &  5.930 &   57.0 &   5.855 \\\\\n",
      "23 &  189.0 &  5.945 &   42.0 &   5.630 \\\\\n",
      "24 &  192.0 &  5.960 &   34.0 &   5.510 \\\\\n",
      "25 &  195.0 &  5.975 &   29.0 &   5.435 \\\\\n",
      "26 &  198.0 &  5.990 &   25.0 &   5.375 \\\\\n",
      "27 &  201.0 &  6.005 &   22.0 &   5.330 \\\\\n",
      "28 &  203.0 &  6.015 &   21.0 &   5.315 \\\\\n",
      "29 &  206.0 &  6.030 &   20.0 &   5.300 \\\\\n",
      "30 &  208.0 &  6.040 &   19.0 &   5.285 \\\\\n",
      "31 &  211.0 &  6.055 &   18.0 &   5.270 \\\\\n",
      "\\bottomrule\n",
      "\\end{tabular}\n",
      "\n"
     ]
    }
   ],
   "source": [
    "delta_T = Dane[\"T[C]\"]*0.005+5\n",
    "delta_U = Dane[\"U[mV]\"]*0.015+5\n",
    "tabelka = np.zeros((4,32))\n",
    "tabelka[0] = Dane[\"T[C]\"]\n",
    "tabelka[1] = delta_T\n",
    "tabelka[2] = Dane[\"U[mV]\"]\n",
    "tabelka[3] = delta_U\n",
    "print(pd.DataFrame.from_records(tabelka.T).to_latex())"
   ]
  },
  {
   "cell_type": "code",
   "execution_count": 36,
   "metadata": {
    "collapsed": false
   },
   "outputs": [
    {
     "data": {
      "image/png": "[encoded data removed]",
      "text/plain": [
       "<matplotlib.figure.Figure at 0x192879cd048>"
      ]
     },
     "metadata": {},
     "output_type": "display_data"
    }
   ],
   "source": [
    "U_max = np.zeros((32,1)) + 452\n",
    "U_min = np.zeros((32,1))+18\n",
    "plt.errorbar(Dane[\"T[C]\"],Dane[\"U[mV]\"],delta_U,delta_T,'.')\n",
    "plt.plot(Dane[\"T[C]\"],U_max)\n",
    "plt.plot(Dane[\"T[C]\"],U_min)\n",
    "parametry, kowariancja = np.polyfit(Dane[\"T[C]\"][11:23:],Dane[\"U[mV]\"][11:23:],1,cov=True)\n",
    "# parametry_curve, kowariancja_curve = curve_fit(paramagnetyk,Dane[\"T[C]\"][17::],Dane[\"U[mV]\"][17::])\n",
    "plt.plot(Dane[\"T[C]\"][11:23:],Dane[\"T[C]\"][11:23:]*parametry[0]+parametry[1])\n",
    "# plt.plot(Dane[\"T[C]\"][17::],parametry_curve[1]/(Dane[\"T[C]\"][17::]-parametry_curve[0]))\n",
    "plt.grid()\n",
    "plt.ylabel(\"U[mV]\")\n",
    "plt.xlabel(\"T[C]\")\n",
    "# plt.savefig(\"Curie_proste.eps\")"
   ]
  },
  {
   "cell_type": "code",
   "execution_count": 35,
   "metadata": {
    "collapsed": false
   },
   "outputs": [
    {
     "data": {
      "image/png": "[encoded data removed]",
      "text/plain": [
       "<matplotlib.figure.Figure at 0x19287f59780>"
      ]
     },
     "metadata": {},
     "output_type": "display_data"
    }
   ],
   "source": [
    "plt.errorbar(Dane[\"T[C]\"][19::],1/(Dane[\"U[mV]\"][19::]),delta_U[19::]/Dane[\"U[mV]\"][19::]**2,delta_T[19::],\\\n",
    "             'k.',label='punkty pomiarowe')\n",
    "prosta, D_prosta = np.polyfit(Dane[\"T[C]\"][19::],1/(Dane[\"U[mV]\"][19::]),1,cov=True,\\\n",
    "                              w=((delta_U[19::]/Dane[\"U[mV]\"][19::]**2)**(-1)))\n",
    "plt.plot(Dane[\"T[C]\"][19::],np.polyval(prosta,Dane[\"T[C]\"][19::]),'c-',label='dopasowana prosta')\n",
    "prosta_mniej, D_prosta_mniej = np.polyfit(Dane[\"T[C]\"][19::]-delta_T[19::],1/(Dane[\"U[mV]\"][19::]),\\\n",
    "                                          1,cov=True,w=((delta_U[19::]/Dane[\"U[mV]\"][19::]**2)**(-1)))\n",
    "plt.plot(Dane[\"T[C]\"][19::]-delta_T[19::],np.polyval(prosta_mniej,Dane[\"T[C]\"][19::]-delta_T[19::]),\\\n",
    "         'c--',label='dopasowanie w granicach niepewności')\n",
    "prosta_wiecej, D_prosta_wiecej = np.polyfit(Dane[\"T[C]\"][19::]+delta_T[19::],1/(Dane[\"U[mV]\"][19::]),\\\n",
    "                                          1,cov=True,w=((delta_U[19::]/Dane[\"U[mV]\"][19::]**2)**(-1)))\n",
    "plt.plot(Dane[\"T[C]\"][19::]+delta_T[19::],np.polyval(prosta_wiecej,Dane[\"T[C]\"][19::]+delta_T[19::]),\\\n",
    "         'c--')\n",
    "plt.legend(loc='upper left')\n",
    "plt.grid()\n",
    "plt.ylabel(\"1/U[1/mV]\")\n",
    "plt.xlabel(\"T[C]\")\n",
    "# plt.savefig(\"Curie_odwrotnosc.eps\")"
   ]
  },
  {
   "cell_type": "code",
   "execution_count": 37,
   "metadata": {
    "collapsed": false
   },
   "outputs": [
    {
     "name": "stderr",
     "output_type": "stream",
     "text": [
      "C:\\Users\\Paulina\\Anaconda3\\lib\\site-packages\\matplotlib\\axes\\_axes.py:2964: RuntimeWarning: invalid value encountered in double_scalars\n",
      "  low = [thisx - thiserr for (thisx, thiserr)\n"
     ]
    },
    {
     "data": {
      "image/png": "[encoded data removed]",
      "text/plain": [
       "<matplotlib.figure.Figure at 0x192863d0438>"
      ]
     },
     "metadata": {},
     "output_type": "display_data"
    }
   ],
   "source": [
    "plt.errorbar(Dane[\"T[C]\"][19::],1/(Dane[\"U[mV]\"][19::]-18),delta_U[19::]/(Dane[\"U[mV]\"]-18)[19::]**2,delta_T[19::],'k.')\n",
    "plt.grid()\n",
    "plt.ylabel(\"1/U[1/mV]\")\n",
    "plt.xlabel(\"T[C]\")\n",
    "plt.ylim(-0.1,1.2)\n",
    "plt.savefig(\"Curie_odjete.eps\")"
   ]
  },
  {
   "cell_type": "code",
   "execution_count": 8,
   "metadata": {
    "collapsed": false
   },
   "outputs": [
    {
     "name": "stdout",
     "output_type": "stream",
     "text": [
      "\\begin{tabular}{lrrrrrr}\n",
      "\\toprule\n",
      "{} &  T[$^\\circ $C] &  $\\Delta T [^\\circ C]$ &  $\\frac{1}{U}[\\frac{1}{mV}]$ &  $\\Delta \\frac{1}{U}[\\frac{1}{mV}]$ &  $\\frac{1}{U-U_{min}}[\\frac{1}{mV}]$ &  $\\Delta \\frac{1}{U-U_{min}}[\\frac{1}{mV}]$ \\\\\n",
      "\\midrule\n",
      "17 &            170 &                   5.85 &                          221 &                            1.70e-04 &                             4.93e-03 &                                    2.02e-04 \\\\\n",
      "18 &            173 &                   5.87 &                          183 &                            2.31e-04 &                             6.06e-03 &                                    2.84e-04 \\\\\n",
      "19 &            176 &                   5.88 &                          146 &                            3.37e-04 &                             7.81e-03 &                                    4.39e-04 \\\\\n",
      "20 &            179 &                   5.89 &                          111 &                            5.41e-04 &                             1.08e-02 &                                    7.71e-04 \\\\\n",
      "21 &            183 &                   5.92 &                           78 &                            1.01e-03 &                             1.67e-02 &                                    1.71e-03 \\\\\n",
      "22 &            186 &                   5.93 &                           57 &                            1.80e-03 &                             2.56e-02 &                                    3.85e-03 \\\\\n",
      "23 &            189 &                   5.95 &                           42 &                            3.19e-03 &                             4.17e-02 &                                    9.77e-03 \\\\\n",
      "24 &            192 &                   5.96 &                           34 &                            4.77e-03 &                             6.25e-02 &                                    2.15e-02 \\\\\n",
      "25 &            195 &                   5.97 &                           29 &                            6.46e-03 &                             9.09e-02 &                                    4.49e-02 \\\\\n",
      "26 &            198 &                   5.99 &                           25 &                            8.60e-03 &                             1.43e-01 &                                    1.10e-01 \\\\\n",
      "27 &            201 &                   6.00 &                           22 &                            1.10e-02 &                             2.50e-01 &                                    3.33e-01 \\\\\n",
      "28 &            203 &                   6.02 &                           21 &                            1.21e-02 &                             3.33e-01 &                                    5.91e-01 \\\\\n",
      "29 &            206 &                   6.03 &                           20 &                            1.32e-02 &                             5.00e-01 &                                    1.32e+00 \\\\\n",
      "30 &            208 &                   6.04 &                           19 &                            1.46e-02 &                             1.00e+00 &                                    5.29e+00 \\\\\n",
      "31 &            211 &                   6.05 &                           18 &                            1.63e-02 &                                  inf &                                         inf \\\\\n",
      "\\bottomrule\n",
      "\\end{tabular}\n",
      "\n"
     ]
    }
   ],
   "source": [
    "dataframe = pd.DataFrame()\n",
    "dataframe[r'T[$^\\circ $C]'] = Dane['T[C]'][17::]\n",
    "dataframe[r'$\\Delta T [^\\circ C]$'] = delta_T[17::]\n",
    "dataframe[r'$\\frac{1}{U}[\\frac{1}{mV}]$'] = Dane['U[mV]'][17::]\n",
    "dataframe[r'$\\Delta \\frac{1}{U}[\\frac{1}{mV}]$'] = delta_U[17::]/Dane[\"U[mV]\"][17::]**2\n",
    "dataframe[r'$\\frac{1}{U-U_{min}}[\\frac{1}{mV}]$'] = 1/(Dane[\"U[mV]\"][17::]-18)\n",
    "dataframe[r'$\\Delta \\frac{1}{U-U_{min}}[\\frac{1}{mV}]$'] = delta_U[17::]/(Dane[\"U[mV]\"]-18)[17::]**2\n",
    "pd.set_option('precision',2)\n",
    "print(dataframe.to_latex(escape=False))"
   ]
  }
 ],
 "metadata": {
  "anaconda-cloud": {},
  "kernelspec": {
   "display_name": "Python 3",
   "language": "python",
   "name": "python3"
  },
  "language_info": {
   "codemirror_mode": {
    "name": "ipython",
    "version": 3
   },
   "file_extension": ".py",
   "mimetype": "text/x-python",
   "name": "python",
   "nbconvert_exporter": "python",
   "pygments_lexer": "ipython3",
   "version": "3.6.0"
  }
 },
 "nbformat": 4,
 "nbformat_minor": 1
}
