{
 "cells": [
  {
   "cell_type": "code",
   "execution_count": 2,
   "metadata": {
    "collapsed": true
   },
   "outputs": [],
   "source": [
    "import numpy as np\n",
    "import matplotlib.pyplot as plt\n",
    "import pandas as pd\n",
    "from matplotlib import rc\n",
    "from scipy.optimize import curve_fit\n",
    "import sympy as sp\n",
    "%matplotlib inline"
   ]
  },
  {
   "cell_type": "code",
   "execution_count": 49,
   "metadata": {
    "collapsed": true
   },
   "outputs": [],
   "source": [
    "rc('font', family='Comic Sans MS')\n",
    "Neon = pd.read_csv(\"Neon.csv\")\n",
    "stopien = np.pi/180\n",
    "minuta = stopien/60\n",
    "alpha_0 = 45*stopien +30*minuta\n",
    "Na_zolte = 346*stopien + 50*minuta\n",
    "Na_zielone = 345*stopien+ 30*minuta\n",
    "D_miarki = 2*minuta\n",
    "D_obserwatora = 2*minuta\n",
    "D_kat = np.sqrt(D_miarki**2+D_obserwatora**2)\n",
    "AL = 176*stopien\n",
    "AP = 56*stopien\n",
    "kat_lamiacy = (AL - AP)/2\n",
    "D_kat_lamiacy = np.sqrt(2)*D_kat/2"
   ]
  },
  {
   "cell_type": "code",
   "execution_count": 4,
   "metadata": {
    "collapsed": false
   },
   "outputs": [
    {
     "name": "stdout",
     "output_type": "stream",
     "text": [
      "\\begin{tabular}{lrrr}\n",
      "\\toprule\n",
      "{} &  lambda[nm] &  alpha[circ] &  alpha[min] \\\\\n",
      "\\midrule\n",
      "0  &         654 &          348 &          18 \\\\\n",
      "1  &         651 &          348 &          10 \\\\\n",
      "2  &         641 &          348 &           0 \\\\\n",
      "3  &         614 &          347 &          46 \\\\\n",
      "4  &         610 &          347 &          40 \\\\\n",
      "5  &         603 &          347 &          26 \\\\\n",
      "6  &         591 &          347 &          10 \\\\\n",
      "7  &         588 &          347 &           0 \\\\\n",
      "8  &         540 &          346 &          20 \\\\\n",
      "9  &         534 &          346 &          10 \\\\\n",
      "10 &         470 &          345 &          48 \\\\\n",
      "11 &         454 &          344 &          44 \\\\\n",
      "\\bottomrule\n",
      "\\end{tabular}\n",
      "\n"
     ]
    }
   ],
   "source": [
    "print(Neon.to_latex())"
   ]
  },
  {
   "cell_type": "code",
   "execution_count": 75,
   "metadata": {
    "collapsed": false
   },
   "outputs": [
    {
     "data": {
      "image/png": "[encoded data removed]",
      "text/plain": [
       "<matplotlib.figure.Figure at 0x1a8bd5435c0>"
      ]
     },
     "metadata": {},
     "output_type": "display_data"
    }
   ],
   "source": [
    "Neon_kat =2*np.pi-(Neon['alpha[circ]']*stopien+Neon['alpha[min]']*minuta)+alpha_0\n",
    "D_neon_kat = 30*minuta\n",
    "n_neon = np.sin((Neon_kat+kat_lamiacy)/2)/np.sin(kat_lamiacy/2)\n",
    "plt.errorbar(Neon['lambda[nm]'],n_neon,cala_delta_n,1,'.')\n",
    "plt.xlabel(r'$\\lambda[nm]$'); plt.ylabel(r'$n_{\\lambda}$')\n",
    "plt.grid()\n",
    "plt.title('Krzywa dyspersji z pomiarami z neonu')\n",
    "plt.savefig('dyspersja.png')"
   ]
  },
  {
   "cell_type": "code",
   "execution_count": 56,
   "metadata": {
    "collapsed": false
   },
   "outputs": [
    {
     "data": {
      "text/plain": [
       "sin(epsilon_0/2)/(cos(phi) - 1)"
      ]
     },
     "execution_count": 56,
     "metadata": {},
     "output_type": "execute_result"
    }
   ],
   "source": [
    "zmienne = kat_lamiacy_analityczne, Neon_kat_analityczne = sp.symbols('phi, epsilon_0',real=True)\n",
    "n_analitycznie = sp.sin((Neon_kat_analityczne+kat_lamiacy_analityczne)/2)/sp.sin(kat_lamiacy_analityczne/2)\n",
    "pochodna_phi = n_analitycznie.diff(kat_lamiacy_analityczne).simplify()\n",
    "pochodna_phi"
   ]
  },
  {
   "cell_type": "code",
   "execution_count": 57,
   "metadata": {
    "collapsed": false
   },
   "outputs": [
    {
     "data": {
      "text/plain": [
       "0     3.102304e-07\n",
       "1     3.115555e-07\n",
       "2     3.132147e-07\n",
       "3     3.155427e-07\n",
       "4     3.165423e-07\n",
       "5     3.188788e-07\n",
       "6     3.215565e-07\n",
       "7     3.232339e-07\n",
       "8     3.299734e-07\n",
       "9     3.316657e-07\n",
       "10    3.353989e-07\n",
       "11    3.463382e-07\n",
       "dtype: float64"
      ]
     },
     "execution_count": 57,
     "metadata": {},
     "output_type": "execute_result"
    }
   ],
   "source": [
    "funkcja_phi = sp.lambdify(zmienne,pochodna_phi,modules='numpy')\n",
    "wklad_phi =(funkcja_phi(kat_lamiacy,Neon_kat)*D_kat_lamiacy)**2\n",
    "wklad_phi"
   ]
  },
  {
   "cell_type": "code",
   "execution_count": 58,
   "metadata": {
    "collapsed": false
   },
   "outputs": [
    {
     "data": {
      "text/plain": [
       "cos(epsilon_0/2 + phi/2)/(2*sin(phi/2))"
      ]
     },
     "execution_count": 58,
     "metadata": {},
     "output_type": "execute_result"
    }
   ],
   "source": [
    "pochodna_epsilon = n_analitycznie.diff(Neon_kat_analityczne).simplify()\n",
    "pochodna_epsilon"
   ]
  },
  {
   "cell_type": "code",
   "execution_count": 59,
   "metadata": {
    "collapsed": false
   },
   "outputs": [
    {
     "name": "stdout",
     "output_type": "stream",
     "text": [
      "0     0.004581\n",
      "1     0.004572\n",
      "2     0.004562\n",
      "3     0.004547\n",
      "4     0.004540\n",
      "5     0.004526\n",
      "6     0.004509\n",
      "7     0.004498\n",
      "8     0.004455\n",
      "9     0.004445\n",
      "10    0.004421\n",
      "11    0.004353\n",
      "dtype: float64\n"
     ]
    }
   ],
   "source": [
    "funkcja_epsilon = sp.lambdify(zmienne,pochodna_epsilon,modules='numpy')\n",
    "wklad_epsilon =(funkcja_epsilon(kat_lamiacy,Neon_kat)*D_neon_kat)**2\n",
    "cala_delta_n = wklad_epsilon+wklad_phi\n",
    "cala_delta_n **= 0.5\n",
    "print(cala_delta_n)"
   ]
  },
  {
   "cell_type": "code",
   "execution_count": 60,
   "metadata": {
    "collapsed": false
   },
   "outputs": [
    {
     "data": {
      "text/plain": [
       "0     0.001266\n",
       "1     0.001264\n",
       "2     0.001263\n",
       "3     0.001260\n",
       "4     0.001259\n",
       "5     0.001257\n",
       "6     0.001254\n",
       "7     0.001252\n",
       "8     0.001245\n",
       "9     0.001243\n",
       "10    0.001239\n",
       "11    0.001228\n",
       "dtype: float64"
      ]
     },
     "execution_count": 60,
     "metadata": {},
     "output_type": "execute_result"
    }
   ],
   "source": [
    "D_epsilon = D_neon_kat*np.cos((Neon_kat+kat_lamiacy)/2)/2*np.sin(kat_lamiacy/2)\n",
    "D_phi = D_kat_lamiacy*(np.cos((Neon_kat+kat_lamiacy)/2)*np.sin(kat_lamiacy/2)-\\\n",
    "                       np.cos(kat_lamiacy/2)*np.sin((Neon_kat+kat_lamiacy)/2))/(2*np.sin(kat_lamiacy/2)**2)\n",
    "D_ostateczne = np.sqrt(D_epsilon**2+D_phi**2)\n",
    "D_ostateczne"
   ]
  },
  {
   "cell_type": "code",
   "execution_count": 83,
   "metadata": {
    "collapsed": false
   },
   "outputs": [
    {
     "data": {
      "image/png": "[encoded data removed]",
      "text/plain": [
       "<matplotlib.figure.Figure at 0x1a8bd57f2b0>"
      ]
     },
     "metadata": {},
     "output_type": "display_data"
    }
   ],
   "source": [
    "plt.errorbar(Neon['lambda[nm]'],n_neon,cala_delta_n,3,'k.',label='Pomiary neonu',elinewidth=1)\n",
    "plt.xlabel(r'$\\lambda[nm]$'); plt.ylabel(r'$n_{\\lambda}$'); plt.grid(); plt.title('Krzywa dyspersji')\n",
    "plt.savefig('dyspersja.png')\n",
    "\n",
    "# parametry1, kowariancja1 = np.polyfit(Neon['lambda[nm]'],n_neon,1,w=1/cala_delta_n,cov=True)\n",
    "# niepewnosci1 = np.diag(kowariancja1)**0.5\n",
    "# plt.plot(Neon['lambda[nm]'],\n",
    "#          np.polyval(parametry1, Neon['lambda[nm]']))\n",
    "# plt.fill_between(Neon['lambda[nm]'],\n",
    "#                  np.polyval(parametry1-niepewnosci1,\n",
    "#                  Neon['lambda[nm]']),\n",
    "#                  np.polyval(parametry1+niepewnosci1, Neon['lambda[nm]']),\n",
    "#                  alpha=0.5)\n",
    "\n",
    "\n",
    "n_Na_zolte = np.sin((2*np.pi-Na_zolte+alpha_0+kat_lamiacy)/2)/np.sin(kat_lamiacy/2)\n",
    "D_n_Na_zolte = np.sqrt((funkcja_epsilon(kat_lamiacy,Na_zolte)*D_neon_kat)**2+\\\n",
    "                       (funkcja_phi(kat_lamiacy,Na_zolte)*D_kat_lamiacy)**2)\n",
    "n_Na_zielone = np.sin((2*np.pi-Na_zielone+alpha_0+kat_lamiacy)/2)/np.sin(kat_lamiacy/2)\n",
    "D_n_Na_zielone = np.sqrt((funkcja_epsilon(kat_lamiacy,Na_zielone)*D_neon_kat)**2+\\\n",
    "                       (funkcja_phi(kat_lamiacy,Na_zielone)*D_kat_lamiacy)**2)\n",
    "plt.errorbar(589,n_Na_zolte,D_n_Na_zolte,3,'y.',label='Żółty sód',elinewidth=1)\n",
    "plt.errorbar(568,n_Na_zielone,D_n_Na_zielone,3,'g.',label='Zielony sód',elinewidth=1)\n",
    "plt.legend(loc='best')\n",
    "plt.savefig('Punkty.png')"
   ]
  }
 ],
 "metadata": {
  "kernelspec": {
   "display_name": "Python 3",
   "language": "python",
   "name": "python3"
  },
  "language_info": {
   "codemirror_mode": {
    "name": "ipython",
    "version": 3
   },
   "file_extension": ".py",
   "mimetype": "text/x-python",
   "name": "python",
   "nbconvert_exporter": "python",
   "pygments_lexer": "ipython3",
   "version": "3.6.0"
  }
 },
 "nbformat": 4,
 "nbformat_minor": 2
}
