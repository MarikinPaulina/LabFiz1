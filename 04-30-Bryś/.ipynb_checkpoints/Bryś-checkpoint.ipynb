{
 "cells": [
  {
   "cell_type": "code",
   "execution_count": 2,
   "metadata": {
    "collapsed": true
   },
   "outputs": [],
   "source": [
    "import numpy as np\n",
    "import matplotlib.pyplot as plt\n",
    "import pandas as pd\n",
    "import matplotlib\n",
    "from scipy.optimize import curve_fit\n",
    "%matplotlib inline"
   ]
  },
  {
   "cell_type": "code",
   "execution_count": 3,
   "metadata": {
    "collapsed": false
   },
   "outputs": [
    {
     "data": {
      "text/html": [
       "<div>\n",
       "<table border=\"1\" class=\"dataframe\">\n",
       "  <thead>\n",
       "    <tr style=\"text-align: right;\">\n",
       "      <th></th>\n",
       "      <th>tetha</th>\n",
       "      <th>I_z[mA]</th>\n",
       "      <th>|z|[mA]</th>\n",
       "    </tr>\n",
       "  </thead>\n",
       "  <tbody>\n",
       "    <tr>\n",
       "      <th>0</th>\n",
       "      <td>0</td>\n",
       "      <td>0.9000</td>\n",
       "      <td>1.000</td>\n",
       "    </tr>\n",
       "    <tr>\n",
       "      <th>1</th>\n",
       "      <td>15</td>\n",
       "      <td>0.8200</td>\n",
       "      <td>1.000</td>\n",
       "    </tr>\n",
       "    <tr>\n",
       "      <th>2</th>\n",
       "      <td>30</td>\n",
       "      <td>0.6200</td>\n",
       "      <td>1.000</td>\n",
       "    </tr>\n",
       "    <tr>\n",
       "      <th>3</th>\n",
       "      <td>45</td>\n",
       "      <td>0.4000</td>\n",
       "      <td>1.000</td>\n",
       "    </tr>\n",
       "    <tr>\n",
       "      <th>4</th>\n",
       "      <td>60</td>\n",
       "      <td>0.1800</td>\n",
       "      <td>0.300</td>\n",
       "    </tr>\n",
       "    <tr>\n",
       "      <th>5</th>\n",
       "      <td>75</td>\n",
       "      <td>0.0430</td>\n",
       "      <td>0.100</td>\n",
       "    </tr>\n",
       "    <tr>\n",
       "      <th>6</th>\n",
       "      <td>90</td>\n",
       "      <td>0.0014</td>\n",
       "      <td>0.003</td>\n",
       "    </tr>\n",
       "  </tbody>\n",
       "</table>\n",
       "</div>"
      ],
      "text/plain": [
       "   tetha  I_z[mA]  |z|[mA]\n",
       "0      0   0.9000    1.000\n",
       "1     15   0.8200    1.000\n",
       "2     30   0.6200    1.000\n",
       "3     45   0.4000    1.000\n",
       "4     60   0.1800    0.300\n",
       "5     75   0.0430    0.100\n",
       "6     90   0.0014    0.003"
      ]
     },
     "execution_count": 3,
     "metadata": {},
     "output_type": "execute_result"
    }
   ],
   "source": [
    "plt.rc('font', family='Comic Sans MS')\n",
    "snela = pd.read_csv(\"Sznela.csv\", sep=',\\t',engine='python')\n",
    "malus = pd.read_csv(\"Malus.csv\", sep=',\\t',engine='python')\n",
    "bryś = 56.25\n",
    "granica = 44\n",
    "malus"
   ]
  },
  {
   "cell_type": "code",
   "execution_count": 4,
   "metadata": {
    "collapsed": false
   },
   "outputs": [
    {
     "name": "stdout",
     "output_type": "stream",
     "text": [
      "\\begin{tabular}{lrrrrrrrr}\n",
      "\\toprule\n",
      "{} &    0 &    1 &     2 &     3 &      4 &      5 &      6 &      7 \\\\\n",
      "\\midrule\n",
      "0 & 10.0 &  6.0 & 1.118 & 1.118 & 0.1736 & 0.1045 & 0.0192 & 0.0194 \\\\\n",
      "1 & 20.0 & 13.0 & 1.118 & 1.118 & 0.3420 & 0.2250 & 0.0183 & 0.0190 \\\\\n",
      "2 & 30.0 & 19.5 & 1.118 & 1.118 & 0.5000 & 0.3338 & 0.0169 & 0.0184 \\\\\n",
      "3 & 40.0 & 25.0 & 1.118 & 1.118 & 0.6428 & 0.4226 & 0.0149 & 0.0177 \\\\\n",
      "4 & 50.0 & 31.0 & 1.118 & 1.118 & 0.7660 & 0.5150 & 0.0125 & 0.0167 \\\\\n",
      "5 & 60.0 & 35.0 & 1.118 & 1.118 & 0.8660 & 0.5736 & 0.0098 & 0.0160 \\\\\n",
      "6 & 70.0 & 38.5 & 1.118 & 1.118 & 0.9397 & 0.6225 & 0.0067 & 0.0153 \\\\\n",
      "7 & 80.0 & 40.0 & 1.118 & 1.118 & 0.9848 & 0.6428 & 0.0034 & 0.0149 \\\\\n",
      "\\bottomrule\n",
      "\\end{tabular}\n",
      "\n"
     ]
    }
   ],
   "source": [
    "sznela = np.zeros((8,8))\n",
    "sznela[0] = snela['alpha']\n",
    "sznela[1] = snela['beta']\n",
    "delta_kat = np.sqrt(1+0.5**2)\n",
    "sznela[2] = delta_kat\n",
    "sznela[3] = delta_kat\n",
    "sznela[4] = np.sin(sznela[0]/180*np.pi)\n",
    "sznela[5] = np.sin(sznela[1]/180*np.pi)\n",
    "sznela[6] = delta_kat*np.cos(sznela[0]/180*np.pi)*np.pi/180\n",
    "sznela[7] = delta_kat*np.cos(sznela[1]/180*np.pi)*np.pi/180\n",
    "print(pd.DataFrame.from_records(sznela.T).to_latex(float_format=\"%.4f\"))"
   ]
  },
  {
   "cell_type": "code",
   "execution_count": 5,
   "metadata": {
    "collapsed": false
   },
   "outputs": [
    {
     "name": "stdout",
     "output_type": "stream",
     "text": [
      "\\begin{tabular}{lrrrrr}\n",
      "\\toprule\n",
      "{} &    0 &        1 &      2 &     3 &        4 \\\\\n",
      "\\midrule\n",
      "0 &  0.0 & 1.118034 & 0.9000 & 1.000 & 0.025000 \\\\\n",
      "1 & 15.0 & 1.118034 & 0.8200 & 1.000 & 0.025000 \\\\\n",
      "2 & 30.0 & 1.118034 & 0.6200 & 1.000 & 0.025000 \\\\\n",
      "3 & 45.0 & 1.118034 & 0.4000 & 1.000 & 0.025000 \\\\\n",
      "4 & 60.0 & 1.118034 & 0.1800 & 0.300 & 0.007500 \\\\\n",
      "5 & 75.0 & 1.118034 & 0.0430 & 0.100 & 0.002500 \\\\\n",
      "6 & 90.0 & 1.118034 & 0.0014 & 0.003 & 0.000075 \\\\\n",
      "\\bottomrule\n",
      "\\end{tabular}\n",
      "\n"
     ]
    }
   ],
   "source": [
    "maluski = np.zeros((5,7))\n",
    "maluski[0] = malus['tetha']\n",
    "maluski[1] = delta_kat\n",
    "maluski[2] = malus['I_z[mA]']\n",
    "maluski[3] = malus['|z|[mA]']\n",
    "maluski[4] = malus['|z|[mA]']*0.025\n",
    "print(pd.DataFrame.from_records(maluski.T).to_latex(float_format=\"%.7f\"))"
   ]
  },
  {
   "cell_type": "code",
   "execution_count": 6,
   "metadata": {
    "collapsed": true
   },
   "outputs": [],
   "source": [
    "def prosta(x,a):\n",
    "    return a*x"
   ]
  },
  {
   "cell_type": "code",
   "execution_count": 7,
   "metadata": {
    "collapsed": false
   },
   "outputs": [
    {
     "data": {
      "image/png": "[encoded data removed]",
      "text/plain": [
       "<matplotlib.figure.Figure at 0x230804f6278>"
      ]
     },
     "metadata": {},
     "output_type": "display_data"
    }
   ],
   "source": [
    "plt.errorbar(sznela[5],sznela[4],sznela[6],sznela[7],'c.')\n",
    "prosty_snell, wariujacy_snell = np.polyfit(sznela[5],sznela[4],1,cov=True)\n",
    "nowy_snell, nowy_niepewny_snell = curve_fit(prosta,sznela[5],sznela[4])\n",
    "plt.plot(sznela[5],sznela[5]*prosty_snell[0],'c')\n",
    "plt.xlabel(r'$\\sin{\\beta}$'); plt.ylabel(r'$\\sin{\\alpha}$'); plt.grid()\n",
    "plt.ylim(0,1)\n",
    "plt.savefig('snella.png')"
   ]
  },
  {
   "cell_type": "code",
   "execution_count": 11,
   "metadata": {
    "collapsed": false
   },
   "outputs": [
    {
     "data": {
      "image/png": "[encoded data removed]",
      "text/plain": [
       "<matplotlib.figure.Figure at 0x23081c09ba8>"
      ]
     },
     "metadata": {},
     "output_type": "display_data"
    }
   ],
   "source": [
    "plt.errorbar(np.cos(maluski[0]*np.pi/180)**2,maluski[2],maluski[4],0,'c.')\n",
    "plt.xlabel(r'$\\cos^2{\\theta}$'); plt.ylabel(r'$I[mA]$'); plt.grid(); plt.xlim(-0.1,1.1); plt.ylim(-0.1,1.1)\n",
    "prosty_malus, wariujacy_malus = np.polyfit(np.cos(maluski[0]*np.pi/180)**2,maluski[2],1,cov=True)\n",
    "plt.plot(np.cos(maluski[0]*np.pi/180)**2,np.cos(maluski[0]*np.pi/180)**2*prosty_malus[0],'c')\n",
    "plt.savefig('malus.png')"
   ]
  },
  {
   "cell_type": "code",
   "execution_count": 9,
   "metadata": {
    "collapsed": false
   },
   "outputs": [
    {
     "name": "stdout",
     "output_type": "stream",
     "text": [
      "Ze snella 1.49762231789 +/- 0.0223720234412\n",
      "Z granicznego 1.43955653963 +/- 1.66665822573\n"
     ]
    }
   ],
   "source": [
    "n_snela = prosty_snell[0]\n",
    "print(\"Ze snella\",n_snela, \"+/-\",np.sqrt(wariujacy_snell[0,0]))\n",
    "n_gran = 1/np.sin(granica*np.pi/180)\n",
    "print(\"Z granicznego\",n_gran,\"+/-\",delta_kat*np.cos(granica*np.pi/180)*n_gran**2)"
   ]
  }
 ],
 "metadata": {
  "anaconda-cloud": {},
  "kernelspec": {
   "display_name": "Python 3",
   "language": "python",
   "name": "python3"
  },
  "language_info": {
   "codemirror_mode": {
    "name": "ipython",
    "version": 3
   },
   "file_extension": ".py",
   "mimetype": "text/x-python",
   "name": "python",
   "nbconvert_exporter": "python",
   "pygments_lexer": "ipython3",
   "version": "3.6.0"
  }
 },
 "nbformat": 4,
 "nbformat_minor": 1
}
