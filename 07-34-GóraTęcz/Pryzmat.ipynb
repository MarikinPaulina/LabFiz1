{
 "cells": [
  {
   "cell_type": "code",
   "execution_count": 1,
   "metadata": {
    "collapsed": true
   },
   "outputs": [],
   "source": [
    "import numpy as np\n",
    "import matplotlib.pyplot as plt\n",
    "import pandas as pd\n",
    "from matplotlib import rc\n",
    "from scipy.optimize import curve_fit\n",
    "import sympy as sp\n",
    "%matplotlib inline"
   ]
  },
  {
   "cell_type": "code",
   "execution_count": 4,
   "metadata": {
    "collapsed": false
   },
   "outputs": [],
   "source": [
    "rc('font', family='Comic Sans MS')\n",
    "Neon = pd.read_csv(\"Neon.csv\")\n",
    "stopien = np.pi/180\n",
    "minuta = stopien/60\n",
    "alpha_0 = 45*stopien +30*minuta\n",
    "Na_zolte = 346*stopien + 50*minuta\n",
    "Na_zielone = 145*stopien+ 30*minuta\n",
    "D_miarki = 2*minuta\n",
    "D_obserwatora = 2*minuta\n",
    "D_kat = np.sqrt(D_miarki**2+D_obserwatora**2)\n",
    "AL = 176*stopien\n",
    "AP = 56*stopien\n",
    "kat_lamiacy = (AL - AP)/2\n",
    "D_kat_lamiacy = np.sqrt(2)*D_kat/2"
   ]
  },
  {
   "cell_type": "code",
   "execution_count": 5,
   "metadata": {
    "collapsed": false
   },
   "outputs": [
    {
     "name": "stdout",
     "output_type": "stream",
     "text": [
      "\\begin{tabular}{lrrr}\n",
      "\\toprule\n",
      "{} &  lambda[nm] &  alpha[circ] &  alpha[min] \\\\\n",
      "\\midrule\n",
      "0  &         654 &          348 &          18 \\\\\n",
      "1  &         651 &          348 &          10 \\\\\n",
      "2  &         641 &          348 &           0 \\\\\n",
      "3  &         614 &          347 &          46 \\\\\n",
      "4  &         610 &          347 &          40 \\\\\n",
      "5  &         603 &          347 &          26 \\\\\n",
      "6  &         591 &          347 &          10 \\\\\n",
      "7  &         588 &          347 &           0 \\\\\n",
      "8  &         540 &          346 &          20 \\\\\n",
      "9  &         534 &          346 &          10 \\\\\n",
      "10 &         470 &          345 &          48 \\\\\n",
      "11 &         454 &          344 &          44 \\\\\n",
      "\\bottomrule\n",
      "\\end{tabular}\n",
      "\n"
     ]
    }
   ],
   "source": [
    "print(Neon.to_latex())"
   ]
  },
  {
   "cell_type": "code",
   "execution_count": 6,
   "metadata": {
    "collapsed": false
   },
   "outputs": [
    {
     "data": {
      "image/png": "[encoded data removed]",
      "text/plain": [
       "<matplotlib.figure.Figure at 0x1f9ca6e0630>"
      ]
     },
     "metadata": {},
     "output_type": "display_data"
    }
   ],
   "source": [
    "Neon_kat =2*np.pi - (Neon['alpha[circ]']*stopien+Neon['alpha[min]']*minuta-alpha_0)\n",
    "D_neon_kat = D_kat_lamiacy\n",
    "n_neon = np.sin((Neon_kat+kat_lamiacy)/2)/np.sin(kat_lamiacy/2)\n",
    "plt.errorbar(Neon['lambda[nm]'],n_neon,0,1,'.')\n",
    "plt.xlabel(r'$\\lambda[nm]$'); plt.ylabel(r'$n_{\\lambda}$'); plt.grid(); plt.title('Krzywa dyspersji z pomiarami z neonu')\n",
    "plt.savefig('dyspersja.png')"
   ]
  },
  {
   "cell_type": "code",
   "execution_count": 12,
   "metadata": {
    "collapsed": false
   },
   "outputs": [
    {
     "name": "stdout",
     "output_type": "stream",
     "text": [
      "\\frac{\\sin{\\left (\\frac{\\epsilon_{0}}{2} \\right )}}{\\cos{\\left (\\phi \\right )} - 1}\n",
      "\\frac{\\cos{\\left (\\frac{\\epsilon_{0}}{2} + \\frac{\\phi}{2} \\right )}}{2 \\sin{\\left (\\frac{\\phi}{2} \\right )}}\n"
     ]
    }
   ],
   "source": [
    "zmienne = kat_lamiacy_analityczne, Neon_kat_analityczne = sp.symbols('phi, epsilon_0')\n",
    "wartosci = {kat_lamiacy_analityczne: kat_lamiacy, Neon_kat_analityczne: Neon_kat}\n",
    "niepewnosci = {kat_lamiacy_analityczne: D_kat_lamiacy, Neon_kat_analityczne: D_neon_kat}\n",
    "\n",
    "n_analitycznie = sp.sin((Neon_kat_analityczne+kat_lamiacy_analityczne)/2)/sp.sin(kat_lamiacy_analityczne/2)\n",
    "# sp.pprint(n_analitycznie)\n",
    "#Więc tutaj nie chce wpisać wartości do macierzy, do poprawienia\n",
    "cala_delta_n = np.zeros((1,12))\n",
    "wklad_od_obecnej_zmiennej = np.zeros((1,12))\n",
    "for zmienna in zmienne:\n",
    "    pochodna = n_analitycznie.diff(zmienna).simplify()\n",
    "    print(sp.latex( pochodna))\n",
    "#     wklad_od_obecnej_zmiennej = (pochodna.subs(wartosci)*niepewnosci[zmienna])**2\n",
    "#     print(wklad_od_obecnej_zmiennej)\n",
    "#     cala_delta_n += wklad_od_obecnej_zmiennej\n",
    "# cala_delta_n **= 0.5\n",
    "# print(cala_delta_n)"
   ]
  },
  {
   "cell_type": "code",
   "execution_count": null,
   "metadata": {
    "collapsed": true
   },
   "outputs": [],
   "source": []
  }
 ],
 "metadata": {
  "kernelspec": {
   "display_name": "Python 3",
   "language": "python",
   "name": "python3"
  },
  "language_info": {
   "codemirror_mode": {
    "name": "ipython",
    "version": 3
   },
   "file_extension": ".py",
   "mimetype": "text/x-python",
   "name": "python",
   "nbconvert_exporter": "python",
   "pygments_lexer": "ipython3",
   "version": "3.6.0"
  }
 },
 "nbformat": 4,
 "nbformat_minor": 2
}
