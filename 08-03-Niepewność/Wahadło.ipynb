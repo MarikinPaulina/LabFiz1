{
 "cells": [
  {
   "cell_type": "code",
   "execution_count": 1,
   "metadata": {
    "collapsed": true
   },
   "outputs": [],
   "source": [
    "import numpy as np\n",
    "import matplotlib.pyplot as plt\n",
    "import pandas as pd\n",
    "from matplotlib import rc\n",
    "from scipy.optimize import curve_fit\n",
    "%matplotlib inline"
   ]
  },
  {
   "cell_type": "code",
   "execution_count": 2,
   "metadata": {
    "collapsed": true
   },
   "outputs": [],
   "source": [
    "rc('font', family='Comic Sans MS')\n",
    "matematyczne=pd.read_csv('dlugosc50cm.csv')/4\n",
    "roznicowe=pd.read_csv('kat15stopni.csv')\n",
    "stopien = np.pi/180\n",
    "D_phi = stopien*2\n",
    "dlugosc = 50e-2\n",
    "phi=15*stopien\n",
    "D_dlugosc = 0.5\n",
    "D_czas = 1e-4\n",
    "matematyczne_kat = np.arange(10,41,10, dtype=float)\n",
    "roznicowe_lina = np.arange(0,51,10, dtype=float)\n",
    "roznicowe_lina[0] = 1.5\n",
    "g = 9.81"
   ]
  },
  {
   "cell_type": "code",
   "execution_count": 3,
   "metadata": {
    "collapsed": false
   },
   "outputs": [
    {
     "data": {
      "text/plain": [
       "0.5"
      ]
     },
     "execution_count": 3,
     "metadata": {},
     "output_type": "execute_result"
    }
   ],
   "source": [
    "dlugosc"
   ]
  },
  {
   "cell_type": "code",
   "execution_count": 4,
   "metadata": {
    "collapsed": false
   },
   "outputs": [
    {
     "name": "stdout",
     "output_type": "stream",
     "text": [
      "\\begin{tabular}{lrrrr}\n",
      "\\toprule\n",
      "{} &        10 &        20 &        30 &        40 \\\\\n",
      "\\midrule\n",
      "0 &  1.230575 &  1.445675 &  1.447225 &  1.461275 \\\\\n",
      "1 &  1.421700 &  1.430525 &  1.443325 &  1.461275 \\\\\n",
      "2 &  1.229075 &  1.430675 &  1.443625 &  1.463125 \\\\\n",
      "3 &  1.422700 &  1.430050 &  1.442900 &  1.461400 \\\\\n",
      "4 &  1.230550 &  1.430250 &  1.443750 &  1.461475 \\\\\n",
      "\\bottomrule\n",
      "\\end{tabular}\n",
      "\n"
     ]
    }
   ],
   "source": [
    "print(matematyczne.to_latex())"
   ]
  },
  {
   "cell_type": "code",
   "execution_count": 5,
   "metadata": {
    "collapsed": false
   },
   "outputs": [
    {
     "name": "stdout",
     "output_type": "stream",
     "text": [
      "\\begin{tabular}{lrrrrrr}\n",
      "\\toprule\n",
      "{} &      50 &      40 &      30 &      20 &      10 &     1.5 \\\\\n",
      "\\midrule\n",
      "0 &  1.2158 &  1.3703 &  1.5107 &  1.6406 &  1.7587 &  1.8516 \\\\\n",
      "1 &  1.2122 &  1.3690 &  1.5121 &  1.6403 &  1.7599 &  1.8525 \\\\\n",
      "2 &  1.2103 &  1.3705 &  1.5118 &  1.6403 &  1.7605 &  1.8518 \\\\\n",
      "3 &  1.2121 &  1.3703 &  1.5124 &  1.6402 &  1.7597 &  1.8516 \\\\\n",
      "4 &  1.2126 &  1.3706 &  1.5124 &  1.6408 &  1.7599 &  1.8518 \\\\\n",
      "5 &  1.2136 &  1.3704 &  1.5120 &  1.6400 &  1.7605 &  1.8523 \\\\\n",
      "\\bottomrule\n",
      "\\end{tabular}\n",
      "\n"
     ]
    }
   ],
   "source": [
    "print(roznicowe.to_latex())"
   ]
  },
  {
   "cell_type": "code",
   "execution_count": 6,
   "metadata": {
    "collapsed": true
   },
   "outputs": [],
   "source": [
    "def ciag_przyblizen(fi):\n",
    "    le_sin = np.sin(fi/2)\n",
    "    return 1 + 1/4*le_sin**2 + 9/64*le_sin**4 + 225/2304*le_sin**6\n",
    "def matematyczne_okres(fi):\n",
    "#     return ciag_przyblizen(fi)\n",
    "    return 2*(np.pi)*np.sqrt(dlugosc/g)*ciag_przyblizen(fi)"
   ]
  },
  {
   "cell_type": "code",
   "execution_count": 23,
   "metadata": {
    "collapsed": true
   },
   "outputs": [],
   "source": [
    "D_matematyczne = np.sqrt(matematyczne.std(0)**2+(1e-3**2)/3)"
   ]
  },
  {
   "cell_type": "code",
   "execution_count": 8,
   "metadata": {
    "collapsed": false
   },
   "outputs": [
    {
     "data": {
      "text/plain": [
       "10    0.646681\n",
       "20    0.928077\n",
       "30    0.894435\n",
       "40    0.756247\n",
       "dtype: float64"
      ]
     },
     "execution_count": 8,
     "metadata": {},
     "output_type": "execute_result"
    }
   ],
   "source": [
    "matematyczne.mean(0)/matematyczne_okres(matematyczne_kat)"
   ]
  },
  {
   "cell_type": "code",
   "execution_count": 27,
   "metadata": {
    "collapsed": false
   },
   "outputs": [
    {
     "data": {
      "image/png": "[encoded data removed]",
      "text/plain": [
       "<matplotlib.figure.Figure at 0x17bdb15bcc0>"
      ]
     },
     "metadata": {},
     "output_type": "display_data"
    }
   ],
   "source": [
    "matematyczne_pelnia = np.linspace(0,40*stopien)\n",
    "plt.errorbar(matematyczne_kat,matematyczne.mean(0),D_matematyczne,D_dlugosc,'k.', label=\"Punkty pomiarowe\",lw=1)\n",
    "plt.plot(matematyczne_pelnia/stopien,matematyczne_okres(matematyczne_pelnia),'k', label=\"Krzywa teoretyczna\",lw=1)\n",
    "plt.ylabel('T[s]')\n",
    "plt.xlabel(r'$\\phi[^\\circ]$')\n",
    "plt.title('Wykres dla wahadła matematycznego')\n",
    "plt.grid()\n",
    "plt.legend(loc='lower right')\n",
    "# plt.savefig('Wykres_matematyczne.png')"
   ]
  },
  {
   "cell_type": "code",
   "execution_count": 10,
   "metadata": {
    "collapsed": true
   },
   "outputs": [],
   "source": [
    "roznicowe_reshaped = roznicowe.mean(0).values.reshape(roznicowe.mean(0).size, 1)\n",
    "roznicowe_roznice = roznicowe_reshaped.T**2 - roznicowe_reshaped**2\n",
    "roznicowe_wykres = np.triu(roznicowe_roznice).flatten()\n",
    "roznicowe_lina_reshaped = roznicowe_lina.reshape(roznicowe_lina.size, 1)\n",
    "roznicowe_lina_roznice = roznicowe_lina_reshaped.T - roznicowe_lina_reshaped\n",
    "roznicowe_lina_wykres = np.triu(roznicowe_lina_roznice).flatten()\n",
    "tutaj_sa_zera = roznicowe_lina_wykres == 0\n",
    "roznicowe_lina_wykres = roznicowe_lina_wykres[~tutaj_sa_zera]/100\n",
    "roznicowe_wykres = roznicowe_wykres[~tutaj_sa_zera]"
   ]
  },
  {
   "cell_type": "code",
   "execution_count": 59,
   "metadata": {
    "collapsed": false
   },
   "outputs": [],
   "source": [
    "D_roznicowe_reshaped = roznicowe.std(0).values.reshape(roznicowe.std(0).size,1)\n",
    "D_roznicowe2 = D_roznicowe_reshaped**2+(1e-3**2)/3\n",
    "D_roznicowe_roznice = D_roznicowe2.T + D_roznicowe2\n",
    "D_roznicowe_wykres = np.triu(D_roznicowe_roznice).flatten()\n",
    "D_roznicowe_wykres = D_roznicowe_wykres[~tutaj_sa_zera]\n",
    "D_roznicowe_lina = np.sqrt((0.5)**2/3 + (0.5/2)**2/3)\n",
    "D_roznicowe_lina_wykres = D_roznicowe_lina*2"
   ]
  },
  {
   "cell_type": "code",
   "execution_count": 64,
   "metadata": {
    "collapsed": false
   },
   "outputs": [
    {
     "data": {
      "image/png": "[encoded data removed]",
      "text/plain": [
       "<matplotlib.figure.Figure at 0x17bdcbfc588>"
      ]
     },
     "metadata": {},
     "output_type": "display_data"
    }
   ],
   "source": [
    "plt.errorbar(roznicowe_lina_wykres*100,roznicowe_wykres,D_roznicowe_wykres,D_roznicowe_lina_wykres,'k.',label='punkty pomiarowe',lw=1)\n",
    "grawitacyjna, D_grawitacyjna = np.polyfit(roznicowe_lina_wykres*100,roznicowe_wykres,1,cov=True)\n",
    "plt.plot(roznicowe_lina_wykres*100,np.polyval(grawitacyjna,roznicowe_lina_wykres*100),'k',label='dopasowana prosta',lw=1)\n",
    "roznicowe_lina_wykres.size\n",
    "plt.xlabel(r'$l_i-l_j[cm]$', fontsize=14)\n",
    "plt.ylabel(r'$T^2_i-T^2_j[s]$', fontsize=14)\n",
    "plt.title('Wykres dla wahadla roznicowego')\n",
    "plt.grid()\n",
    "plt.legend(loc='best')\n",
    "plt.savefig('Wykres_roznicowe.png')"
   ]
  },
  {
   "cell_type": "code",
   "execution_count": 66,
   "metadata": {
    "collapsed": false
   },
   "outputs": [
    {
     "name": "stdout",
     "output_type": "stream",
     "text": [
      "g = 984.122 +/- 29.934\n"
     ]
    }
   ],
   "source": [
    "grawitacja = 4*np.pi**2*ciag_przyblizen(15*stopien)/grawitacyjna[0]\n",
    "D_grawitacja = np.sqrt((1e-3*grawitacja/ciag_przyblizen(15*stopien))**2+\\\n",
    "                       (np.sqrt(D_grawitacyjna[0,0])*grawitacja/grawitacyjna[0])**2)\n",
    "print(f'g = {grawitacja:.3f} +/- {D_grawitacja:.3f}')"
   ]
  }
 ],
 "metadata": {
  "kernelspec": {
   "display_name": "Python 3",
   "language": "python",
   "name": "python3"
  },
  "language_info": {
   "codemirror_mode": {
    "name": "ipython",
    "version": 3
   },
   "file_extension": ".py",
   "mimetype": "text/x-python",
   "name": "python",
   "nbconvert_exporter": "python",
   "pygments_lexer": "ipython3",
   "version": "3.6.0"
  }
 },
 "nbformat": 4,
 "nbformat_minor": 2
}
